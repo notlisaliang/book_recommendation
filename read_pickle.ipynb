{
 "cells": [
  {
   "cell_type": "code",
   "execution_count": 19,
   "id": "3a2f4973-507a-4357-ad98-539db7f18d91",
   "metadata": {},
   "outputs": [],
   "source": [
    "import numpy as np\n",
    "import pickle"
   ]
  },
  {
   "cell_type": "code",
   "execution_count": 20,
   "id": "06ffb8e2-00f3-4fb7-b1f8-2cd4304f3d95",
   "metadata": {},
   "outputs": [],
   "source": [
    "with open('title_pipe.pkl', 'rb') as f:\n",
    "    model = pickle.load(f)"
   ]
  },
  {
   "cell_type": "code",
   "execution_count": 21,
   "id": "de806c53-d124-491a-821e-696bcefd9498",
   "metadata": {},
   "outputs": [
    {
     "data": {
      "text/plain": [
       "sklearn.pipeline.Pipeline"
      ]
     },
     "execution_count": 21,
     "metadata": {},
     "output_type": "execute_result"
    }
   ],
   "source": [
    "type(model)"
   ]
  },
  {
   "cell_type": "code",
   "execution_count": 22,
   "id": "57545ae8-9633-4b66-8c19-1d317fc9e5c9",
   "metadata": {},
   "outputs": [],
   "source": [
    "import pandas as pd"
   ]
  },
  {
   "cell_type": "code",
   "execution_count": 23,
   "id": "ef94bccd-f699-4082-86d3-64db282907f0",
   "metadata": {},
   "outputs": [],
   "source": [
    "df = pd.read_csv('fiction_sample.csv')"
   ]
  },
  {
   "cell_type": "code",
   "execution_count": 30,
   "id": "ca9e528a-4d2e-4448-8f29-dfce782d8d0f",
   "metadata": {},
   "outputs": [
    {
     "data": {
      "text/html": [
       "<div>\n",
       "<style scoped>\n",
       "    .dataframe tbody tr th:only-of-type {\n",
       "        vertical-align: middle;\n",
       "    }\n",
       "\n",
       "    .dataframe tbody tr th {\n",
       "        vertical-align: top;\n",
       "    }\n",
       "\n",
       "    .dataframe thead th {\n",
       "        text-align: right;\n",
       "    }\n",
       "</style>\n",
       "<table border=\"1\" class=\"dataframe\">\n",
       "  <thead>\n",
       "    <tr style=\"text-align: right;\">\n",
       "      <th></th>\n",
       "      <th>Title</th>\n",
       "      <th>profileName</th>\n",
       "      <th>review/score</th>\n",
       "      <th>review/summary</th>\n",
       "      <th>review/text</th>\n",
       "      <th>description</th>\n",
       "      <th>authors</th>\n",
       "      <th>image</th>\n",
       "      <th>categories</th>\n",
       "    </tr>\n",
       "  </thead>\n",
       "  <tbody>\n",
       "    <tr>\n",
       "      <th>0</th>\n",
       "      <td>ONE HUNDRED YEARS OF SOLITUDE</td>\n",
       "      <td>Lisa Sloane</td>\n",
       "      <td>5.0</td>\n",
       "      <td>THIS BOOK SHOULD BE REQUIRED READING AT EVERY ...</td>\n",
       "      <td>I was not forced to read this in higschool; I ...</td>\n",
       "      <td>One of the 20th century's enduring works, One ...</td>\n",
       "      <td>Gabriel Garcia Marquez</td>\n",
       "      <td>http://books.google.com/books/content?id=pgPWO...</td>\n",
       "      <td>Fiction</td>\n",
       "    </tr>\n",
       "    <tr>\n",
       "      <th>1</th>\n",
       "      <td>Tahoe Deathfall (An Owen McKenna Mystery Thril...</td>\n",
       "      <td>Myra</td>\n",
       "      <td>5.0</td>\n",
       "      <td>Wow, great,</td>\n",
       "      <td>Thanks for creating super characters, thrillin...</td>\n",
       "      <td>\"Disaster struck when twin sisters Jennifer an...</td>\n",
       "      <td>Todd Borg</td>\n",
       "      <td>http://books.google.com/books/content?id=hSt7P...</td>\n",
       "      <td>Fiction</td>\n",
       "    </tr>\n",
       "    <tr>\n",
       "      <th>2</th>\n",
       "      <td>Player Piano</td>\n",
       "      <td>Jack Baker \"Beauty Will Save the World\"</td>\n",
       "      <td>5.0</td>\n",
       "      <td>\"Out On The Edge You See All Kinds Of Things Y...</td>\n",
       "      <td>Player Piano was the late Kurt Vonnegut's firs...</td>\n",
       "      <td>“A funny, savage appraisal of a totally automa...</td>\n",
       "      <td>Kurt Vonnegut</td>\n",
       "      <td>http://books.google.com/books/content?id=vCmxA...</td>\n",
       "      <td>Fiction</td>\n",
       "    </tr>\n",
       "  </tbody>\n",
       "</table>\n",
       "</div>"
      ],
      "text/plain": [
       "                                               Title  \\\n",
       "0                      ONE HUNDRED YEARS OF SOLITUDE   \n",
       "1  Tahoe Deathfall (An Owen McKenna Mystery Thril...   \n",
       "2                                       Player Piano   \n",
       "\n",
       "                               profileName  review/score  \\\n",
       "0                              Lisa Sloane           5.0   \n",
       "1                                     Myra           5.0   \n",
       "2  Jack Baker \"Beauty Will Save the World\"           5.0   \n",
       "\n",
       "                                      review/summary  \\\n",
       "0  THIS BOOK SHOULD BE REQUIRED READING AT EVERY ...   \n",
       "1                                        Wow, great,   \n",
       "2  \"Out On The Edge You See All Kinds Of Things Y...   \n",
       "\n",
       "                                         review/text  \\\n",
       "0  I was not forced to read this in higschool; I ...   \n",
       "1  Thanks for creating super characters, thrillin...   \n",
       "2  Player Piano was the late Kurt Vonnegut's firs...   \n",
       "\n",
       "                                         description                 authors  \\\n",
       "0  One of the 20th century's enduring works, One ...  Gabriel Garcia Marquez   \n",
       "1  \"Disaster struck when twin sisters Jennifer an...               Todd Borg   \n",
       "2  “A funny, savage appraisal of a totally automa...           Kurt Vonnegut   \n",
       "\n",
       "                                               image categories  \n",
       "0  http://books.google.com/books/content?id=pgPWO...    Fiction  \n",
       "1  http://books.google.com/books/content?id=hSt7P...    Fiction  \n",
       "2  http://books.google.com/books/content?id=vCmxA...    Fiction  "
      ]
     },
     "execution_count": 30,
     "metadata": {},
     "output_type": "execute_result"
    }
   ],
   "source": [
    "df.head(3)"
   ]
  },
  {
   "cell_type": "code",
   "execution_count": 24,
   "id": "b77dc841-dd3f-4235-8443-e758deac8db9",
   "metadata": {},
   "outputs": [
    {
     "data": {
      "text/plain": [
       "array(['Brave New World',\n",
       "       'The Hobbitt, or there and back again; illustrated by the author.',\n",
       "       'THE CATCHER IN THE RYE', ..., \"Alice's Adventures in Wonderland\",\n",
       "       'A Feast for Crows (A Song of Ice and Fire, Book Four)',\n",
       "       'The Red Tent (Bestselling Backlist)'], dtype='<U253')"
      ]
     },
     "execution_count": 24,
     "metadata": {},
     "output_type": "execute_result"
    }
   ],
   "source": [
    "model.predict(df['description'])"
   ]
  },
  {
   "cell_type": "code",
   "execution_count": 25,
   "id": "35dda0b2-09c3-4413-a7a9-2833aa6556e4",
   "metadata": {},
   "outputs": [],
   "source": [
    "text = 'The feast for crows'"
   ]
  },
  {
   "cell_type": "code",
   "execution_count": 26,
   "id": "80b858f6-08bb-408c-967a-4c9f5923d089",
   "metadata": {},
   "outputs": [
    {
     "data": {
      "text/plain": [
       "'The Great Gatsby'"
      ]
     },
     "execution_count": 26,
     "metadata": {},
     "output_type": "execute_result"
    }
   ],
   "source": [
    "model.predict([text])[0]"
   ]
  },
  {
   "cell_type": "code",
   "execution_count": null,
   "id": "b2fa78ad-d221-4630-a301-33f4d96a9866",
   "metadata": {},
   "outputs": [],
   "source": [
    "user_text = input()"
   ]
  },
  {
   "cell_type": "code",
   "execution_count": null,
   "id": "b84b6a5a-4cb2-402a-a505-489b660724d8",
   "metadata": {},
   "outputs": [],
   "source": [
    "user_text = input('Enter some text please: ')\n",
    "prediction = model.predict([user_text])[0]\n",
    "print(f'You write like: {prediction}')"
   ]
  },
  {
   "cell_type": "code",
   "execution_count": null,
   "id": "da2c2a68-be42-4834-bc1b-d834492b35c5",
   "metadata": {},
   "outputs": [],
   "source": []
  }
 ],
 "metadata": {
  "kernelspec": {
   "display_name": "Python 3 (ipykernel)",
   "language": "python",
   "name": "python3"
  },
  "language_info": {
   "codemirror_mode": {
    "name": "ipython",
    "version": 3
   },
   "file_extension": ".py",
   "mimetype": "text/x-python",
   "name": "python",
   "nbconvert_exporter": "python",
   "pygments_lexer": "ipython3",
   "version": "3.9.13"
  }
 },
 "nbformat": 4,
 "nbformat_minor": 5
}
