{
 "cells": [
  {
   "cell_type": "markdown",
   "id": "e7824149-5351-46fa-b9d8-4da4d7117442",
   "metadata": {},
   "source": [
    "## Imports"
   ]
  },
  {
   "cell_type": "code",
   "execution_count": 1,
   "id": "38e08518-b9b8-4a03-8cf2-cbe42eed093c",
   "metadata": {},
   "outputs": [],
   "source": [
    "import pandas as pd\n",
    "import numpy as np\n",
    "import matplotlib.pyplot as plt\n",
    "import seaborn as sns"
   ]
  },
  {
   "cell_type": "markdown",
   "id": "b669aa05-8c5d-4bee-a3c7-e8c323ecd346",
   "metadata": {},
   "source": [
    "Note: I set a random seed to ensure my code was reproducible, especially with the capacity of the dataset."
   ]
  },
  {
   "cell_type": "code",
   "execution_count": 2,
   "id": "27fcb7b7-acee-4c8a-bf9d-219ffbfc52b5",
   "metadata": {},
   "outputs": [],
   "source": [
    "np.random.seed(42)"
   ]
  },
  {
   "cell_type": "markdown",
   "id": "65e066c7-a138-4718-80e1-04a93a55e0d8",
   "metadata": {},
   "source": [
    "### Unzipping and Merging Datasets"
   ]
  },
  {
   "cell_type": "markdown",
   "id": "a6c605f0-a5e9-446b-9d77-4370bb09891b",
   "metadata": {},
   "source": [
    "The datasets, Book_ratings.csv and books_data.csv, were obtained from [Kaggle](https://www.kaggle.com/datasets/mohamedbakhet/amazon-books-reviews). Due to the size of the datasets, I unzipped the csv zip files through Jupyter Notebook and deleted them from my data/ folder after creating DataFrames. The Book_ratings.csv had scrapped book reviews from Amazon between May 1996 - July 2014, resulting in 3 million rows and over 200K unique books. The books_data.csv used the Google Books API to retrieve book details on these unique titles. \n",
    "\n",
    "I merged Book_ratings.csv and books_data.csv into one DataFrame on their shared column 'Title'."
   ]
  },
  {
   "cell_type": "code",
   "execution_count": 3,
   "id": "ba50991a-737d-40e1-879f-fae235e385d8",
   "metadata": {},
   "outputs": [],
   "source": [
    "#!unzip -q \"./data/Books_rating.csv.zip\""
   ]
  },
  {
   "cell_type": "code",
   "execution_count": 4,
   "id": "2db4b425-c61f-4ba7-bd3d-dbf82295e66b",
   "metadata": {},
   "outputs": [],
   "source": [
    "#!unzip -q \"./data/books_data.csv.zip\""
   ]
  },
  {
   "cell_type": "code",
   "execution_count": 5,
   "id": "dcab860d-0a15-4aa3-89e0-b7b694780bd5",
   "metadata": {},
   "outputs": [],
   "source": [
    "book_ratings = pd.read_csv('data/Books_rating.csv')"
   ]
  },
  {
   "cell_type": "code",
   "execution_count": 6,
   "id": "bc399073-3d4d-4545-8ead-d3b8a5fa11a8",
   "metadata": {},
   "outputs": [],
   "source": [
    "book_details = pd.read_csv('data/books_data.csv')"
   ]
  },
  {
   "cell_type": "markdown",
   "id": "0f12b1df-1f60-4a97-b75c-81964dddcfe5",
   "metadata": {},
   "source": [
    "Here, we evaluate which column to use when merging the DataFrames. The merge takes the details_df and matches the 'Title' to their respective matches in rating_df."
   ]
  },
  {
   "cell_type": "code",
   "execution_count": 7,
   "id": "ed405780-73a2-4df1-b9ae-6b15b3079eee",
   "metadata": {
    "scrolled": true,
    "tags": []
   },
   "outputs": [
    {
     "data": {
      "text/html": [
       "<div>\n",
       "<style scoped>\n",
       "    .dataframe tbody tr th:only-of-type {\n",
       "        vertical-align: middle;\n",
       "    }\n",
       "\n",
       "    .dataframe tbody tr th {\n",
       "        vertical-align: top;\n",
       "    }\n",
       "\n",
       "    .dataframe thead th {\n",
       "        text-align: right;\n",
       "    }\n",
       "</style>\n",
       "<table border=\"1\" class=\"dataframe\">\n",
       "  <thead>\n",
       "    <tr style=\"text-align: right;\">\n",
       "      <th></th>\n",
       "      <th>Id</th>\n",
       "      <th>Title</th>\n",
       "      <th>Price</th>\n",
       "      <th>User_id</th>\n",
       "      <th>profileName</th>\n",
       "      <th>review/helpfulness</th>\n",
       "      <th>review/score</th>\n",
       "      <th>review/time</th>\n",
       "      <th>review/summary</th>\n",
       "      <th>review/text</th>\n",
       "    </tr>\n",
       "  </thead>\n",
       "  <tbody>\n",
       "    <tr>\n",
       "      <th>0</th>\n",
       "      <td>1882931173</td>\n",
       "      <td>Its Only Art If Its Well Hung!</td>\n",
       "      <td>NaN</td>\n",
       "      <td>AVCGYZL8FQQTD</td>\n",
       "      <td>Jim of Oz \"jim-of-oz\"</td>\n",
       "      <td>7/7</td>\n",
       "      <td>4.0</td>\n",
       "      <td>940636800</td>\n",
       "      <td>Nice collection of Julie Strain images</td>\n",
       "      <td>This is only for Julie Strain fans. It's a col...</td>\n",
       "    </tr>\n",
       "    <tr>\n",
       "      <th>1</th>\n",
       "      <td>0826414346</td>\n",
       "      <td>Dr. Seuss: American Icon</td>\n",
       "      <td>NaN</td>\n",
       "      <td>A30TK6U7DNS82R</td>\n",
       "      <td>Kevin Killian</td>\n",
       "      <td>10/10</td>\n",
       "      <td>5.0</td>\n",
       "      <td>1095724800</td>\n",
       "      <td>Really Enjoyed It</td>\n",
       "      <td>I don't care much for Dr. Seuss but after read...</td>\n",
       "    </tr>\n",
       "  </tbody>\n",
       "</table>\n",
       "</div>"
      ],
      "text/plain": [
       "           Id                           Title  Price         User_id  \\\n",
       "0  1882931173  Its Only Art If Its Well Hung!    NaN   AVCGYZL8FQQTD   \n",
       "1  0826414346        Dr. Seuss: American Icon    NaN  A30TK6U7DNS82R   \n",
       "\n",
       "             profileName review/helpfulness  review/score  review/time  \\\n",
       "0  Jim of Oz \"jim-of-oz\"                7/7           4.0    940636800   \n",
       "1          Kevin Killian              10/10           5.0   1095724800   \n",
       "\n",
       "                           review/summary  \\\n",
       "0  Nice collection of Julie Strain images   \n",
       "1                       Really Enjoyed It   \n",
       "\n",
       "                                         review/text  \n",
       "0  This is only for Julie Strain fans. It's a col...  \n",
       "1  I don't care much for Dr. Seuss but after read...  "
      ]
     },
     "execution_count": 7,
     "metadata": {},
     "output_type": "execute_result"
    }
   ],
   "source": [
    "book_ratings.head(2)"
   ]
  },
  {
   "cell_type": "code",
   "execution_count": 8,
   "id": "6264881e-a0b7-4395-8f20-57480d47c0ff",
   "metadata": {
    "scrolled": true,
    "tags": []
   },
   "outputs": [
    {
     "data": {
      "text/html": [
       "<div>\n",
       "<style scoped>\n",
       "    .dataframe tbody tr th:only-of-type {\n",
       "        vertical-align: middle;\n",
       "    }\n",
       "\n",
       "    .dataframe tbody tr th {\n",
       "        vertical-align: top;\n",
       "    }\n",
       "\n",
       "    .dataframe thead th {\n",
       "        text-align: right;\n",
       "    }\n",
       "</style>\n",
       "<table border=\"1\" class=\"dataframe\">\n",
       "  <thead>\n",
       "    <tr style=\"text-align: right;\">\n",
       "      <th></th>\n",
       "      <th>Title</th>\n",
       "      <th>description</th>\n",
       "      <th>authors</th>\n",
       "      <th>image</th>\n",
       "      <th>previewLink</th>\n",
       "      <th>publisher</th>\n",
       "      <th>publishedDate</th>\n",
       "      <th>infoLink</th>\n",
       "      <th>categories</th>\n",
       "      <th>ratingsCount</th>\n",
       "    </tr>\n",
       "  </thead>\n",
       "  <tbody>\n",
       "    <tr>\n",
       "      <th>0</th>\n",
       "      <td>Its Only Art If Its Well Hung!</td>\n",
       "      <td>NaN</td>\n",
       "      <td>['Julie Strain']</td>\n",
       "      <td>http://books.google.com/books/content?id=DykPA...</td>\n",
       "      <td>http://books.google.nl/books?id=DykPAAAACAAJ&amp;d...</td>\n",
       "      <td>NaN</td>\n",
       "      <td>1996</td>\n",
       "      <td>http://books.google.nl/books?id=DykPAAAACAAJ&amp;d...</td>\n",
       "      <td>['Comics &amp; Graphic Novels']</td>\n",
       "      <td>NaN</td>\n",
       "    </tr>\n",
       "    <tr>\n",
       "      <th>1</th>\n",
       "      <td>Dr. Seuss: American Icon</td>\n",
       "      <td>Philip Nel takes a fascinating look into the k...</td>\n",
       "      <td>['Philip Nel']</td>\n",
       "      <td>http://books.google.com/books/content?id=IjvHQ...</td>\n",
       "      <td>http://books.google.nl/books?id=IjvHQsCn_pgC&amp;p...</td>\n",
       "      <td>A&amp;C Black</td>\n",
       "      <td>2005-01-01</td>\n",
       "      <td>http://books.google.nl/books?id=IjvHQsCn_pgC&amp;d...</td>\n",
       "      <td>['Biography &amp; Autobiography']</td>\n",
       "      <td>NaN</td>\n",
       "    </tr>\n",
       "  </tbody>\n",
       "</table>\n",
       "</div>"
      ],
      "text/plain": [
       "                            Title  \\\n",
       "0  Its Only Art If Its Well Hung!   \n",
       "1        Dr. Seuss: American Icon   \n",
       "\n",
       "                                         description           authors  \\\n",
       "0                                                NaN  ['Julie Strain']   \n",
       "1  Philip Nel takes a fascinating look into the k...    ['Philip Nel']   \n",
       "\n",
       "                                               image  \\\n",
       "0  http://books.google.com/books/content?id=DykPA...   \n",
       "1  http://books.google.com/books/content?id=IjvHQ...   \n",
       "\n",
       "                                         previewLink  publisher publishedDate  \\\n",
       "0  http://books.google.nl/books?id=DykPAAAACAAJ&d...        NaN          1996   \n",
       "1  http://books.google.nl/books?id=IjvHQsCn_pgC&p...  A&C Black    2005-01-01   \n",
       "\n",
       "                                            infoLink  \\\n",
       "0  http://books.google.nl/books?id=DykPAAAACAAJ&d...   \n",
       "1  http://books.google.nl/books?id=IjvHQsCn_pgC&d...   \n",
       "\n",
       "                      categories  ratingsCount  \n",
       "0    ['Comics & Graphic Novels']           NaN  \n",
       "1  ['Biography & Autobiography']           NaN  "
      ]
     },
     "execution_count": 8,
     "metadata": {},
     "output_type": "execute_result"
    }
   ],
   "source": [
    "book_details.head(2)"
   ]
  },
  {
   "cell_type": "code",
   "execution_count": 9,
   "id": "b60b53ff-edbf-44af-aeba-9f43169cfc48",
   "metadata": {},
   "outputs": [],
   "source": [
    "df = pd.merge(book_ratings, book_details, on = 'Title')"
   ]
  },
  {
   "cell_type": "markdown",
   "id": "47f0ce66-2fe1-4440-b6c1-c0c7409cb831",
   "metadata": {},
   "source": [
    "### Cleaning Data"
   ]
  },
  {
   "cell_type": "markdown",
   "id": "d076af95-4ae6-43c3-b733-4a92bc80896c",
   "metadata": {},
   "source": [
    "Early on, I decided to drop Id, Price, User_id, review/helpfulness, review/time, publisher, publishedDate, previewLink, and infoLink as they were either redundant information or did not provide any context that I thought to be useful. From here, I found the null values to understand what was missing in my DataFrame and if there was a pattern to these missing values. For some columns, like ratingsCount, more than a third of the data was missing. I noticed that oftentimes it was the same author missing data for their books. This aspect posed a dilemma as the data was scraped, and replacing these missing values with the original content (e.g. description, review/text) may create bias within our models and outside my skill set. For future model builders, they could re-scrape the data, but may be difficult as they would need to match up user_id's and hope that data has not been deleted from Amazon while still aligning with this dataset. \n",
    "\n",
    "Ultimately, I decided to drop all rows with any null values, knowing that I would still be left with a sizable dataset to use with all columns filled."
   ]
  },
  {
   "cell_type": "code",
   "execution_count": 10,
   "id": "d3468bd0-fe21-4a86-adaf-33573d462a1c",
   "metadata": {},
   "outputs": [
    {
     "name": "stdout",
     "output_type": "stream",
     "text": [
      "<class 'pandas.core.frame.DataFrame'>\n",
      "Int64Index: 3000000 entries, 0 to 2999999\n",
      "Data columns (total 19 columns):\n",
      " #   Column              Dtype  \n",
      "---  ------              -----  \n",
      " 0   Id                  object \n",
      " 1   Title               object \n",
      " 2   Price               float64\n",
      " 3   User_id             object \n",
      " 4   profileName         object \n",
      " 5   review/helpfulness  object \n",
      " 6   review/score        float64\n",
      " 7   review/time         int64  \n",
      " 8   review/summary      object \n",
      " 9   review/text         object \n",
      " 10  description         object \n",
      " 11  authors             object \n",
      " 12  image               object \n",
      " 13  previewLink         object \n",
      " 14  publisher           object \n",
      " 15  publishedDate       object \n",
      " 16  infoLink            object \n",
      " 17  categories          object \n",
      " 18  ratingsCount        float64\n",
      "dtypes: float64(3), int64(1), object(15)\n",
      "memory usage: 457.8+ MB\n"
     ]
    }
   ],
   "source": [
    "df.info()"
   ]
  },
  {
   "cell_type": "code",
   "execution_count": 11,
   "id": "42947470-0028-40b9-9ecc-063aa4e8e981",
   "metadata": {},
   "outputs": [],
   "source": [
    "df.drop(columns = ['Id',\n",
    "                   'Price',\n",
    "                   'User_id',\n",
    "                   'review/helpfulness',\n",
    "                   'review/time',\n",
    "                   'publisher',\n",
    "                   'publishedDate',\n",
    "                   'previewLink',\n",
    "                   'infoLink'], inplace = True)"
   ]
  },
  {
   "cell_type": "code",
   "execution_count": 12,
   "id": "96371776-fe46-40c2-991a-f3c2445952ac",
   "metadata": {},
   "outputs": [
    {
     "data": {
      "text/plain": [
       "Title                 208\n",
       "profileName        561886\n",
       "review/score            0\n",
       "review/summary         38\n",
       "review/text             8\n",
       "description        640225\n",
       "authors            390634\n",
       "image              540306\n",
       "categories         551498\n",
       "ratingsCount      1360694\n",
       "dtype: int64"
      ]
     },
     "execution_count": 12,
     "metadata": {},
     "output_type": "execute_result"
    }
   ],
   "source": [
    "df.isnull().sum()"
   ]
  },
  {
   "cell_type": "markdown",
   "id": "a986a86d-b7b8-4e1b-96c0-5b5eab88c981",
   "metadata": {},
   "source": [
    "Note: We see examples like \"Ghost Story\" or \"Shecky's Bar, Club, and Lounge Guide for Chicago\" have multiple reviews, but are all missing the same data columns. The reason for this is unknown, but could be connected to the available information at the time of web-scraping."
   ]
  },
  {
   "cell_type": "code",
   "execution_count": 13,
   "id": "093c8e43-f0ae-4568-acdd-719463ba3ebc",
   "metadata": {
    "scrolled": true,
    "tags": []
   },
   "outputs": [
    {
     "data": {
      "text/html": [
       "<div>\n",
       "<style scoped>\n",
       "    .dataframe tbody tr th:only-of-type {\n",
       "        vertical-align: middle;\n",
       "    }\n",
       "\n",
       "    .dataframe tbody tr th {\n",
       "        vertical-align: top;\n",
       "    }\n",
       "\n",
       "    .dataframe thead th {\n",
       "        text-align: right;\n",
       "    }\n",
       "</style>\n",
       "<table border=\"1\" class=\"dataframe\">\n",
       "  <thead>\n",
       "    <tr style=\"text-align: right;\">\n",
       "      <th></th>\n",
       "      <th>Title</th>\n",
       "      <th>profileName</th>\n",
       "      <th>review/score</th>\n",
       "      <th>review/summary</th>\n",
       "      <th>review/text</th>\n",
       "      <th>description</th>\n",
       "      <th>authors</th>\n",
       "      <th>image</th>\n",
       "      <th>categories</th>\n",
       "      <th>ratingsCount</th>\n",
       "    </tr>\n",
       "  </thead>\n",
       "  <tbody>\n",
       "    <tr>\n",
       "      <th>0</th>\n",
       "      <td>Its Only Art If Its Well Hung!</td>\n",
       "      <td>Jim of Oz \"jim-of-oz\"</td>\n",
       "      <td>4.0</td>\n",
       "      <td>Nice collection of Julie Strain images</td>\n",
       "      <td>This is only for Julie Strain fans. It's a col...</td>\n",
       "      <td>NaN</td>\n",
       "      <td>['Julie Strain']</td>\n",
       "      <td>http://books.google.com/books/content?id=DykPA...</td>\n",
       "      <td>['Comics &amp; Graphic Novels']</td>\n",
       "      <td>NaN</td>\n",
       "    </tr>\n",
       "    <tr>\n",
       "      <th>1</th>\n",
       "      <td>Dr. Seuss: American Icon</td>\n",
       "      <td>Kevin Killian</td>\n",
       "      <td>5.0</td>\n",
       "      <td>Really Enjoyed It</td>\n",
       "      <td>I don't care much for Dr. Seuss but after read...</td>\n",
       "      <td>Philip Nel takes a fascinating look into the k...</td>\n",
       "      <td>['Philip Nel']</td>\n",
       "      <td>http://books.google.com/books/content?id=IjvHQ...</td>\n",
       "      <td>['Biography &amp; Autobiography']</td>\n",
       "      <td>NaN</td>\n",
       "    </tr>\n",
       "    <tr>\n",
       "      <th>2</th>\n",
       "      <td>Dr. Seuss: American Icon</td>\n",
       "      <td>John Granger</td>\n",
       "      <td>5.0</td>\n",
       "      <td>Essential for every personal and Public Library</td>\n",
       "      <td>If people become the books they read and if \"t...</td>\n",
       "      <td>Philip Nel takes a fascinating look into the k...</td>\n",
       "      <td>['Philip Nel']</td>\n",
       "      <td>http://books.google.com/books/content?id=IjvHQ...</td>\n",
       "      <td>['Biography &amp; Autobiography']</td>\n",
       "      <td>NaN</td>\n",
       "    </tr>\n",
       "    <tr>\n",
       "      <th>3</th>\n",
       "      <td>Dr. Seuss: American Icon</td>\n",
       "      <td>Roy E. Perry \"amateur philosopher\"</td>\n",
       "      <td>4.0</td>\n",
       "      <td>Phlip Nel gives silly Seuss a serious treatment</td>\n",
       "      <td>Theodore Seuss Geisel (1904-1991), aka &amp;quot;D...</td>\n",
       "      <td>Philip Nel takes a fascinating look into the k...</td>\n",
       "      <td>['Philip Nel']</td>\n",
       "      <td>http://books.google.com/books/content?id=IjvHQ...</td>\n",
       "      <td>['Biography &amp; Autobiography']</td>\n",
       "      <td>NaN</td>\n",
       "    </tr>\n",
       "    <tr>\n",
       "      <th>4</th>\n",
       "      <td>Dr. Seuss: American Icon</td>\n",
       "      <td>D. H. Richards \"ninthwavestore\"</td>\n",
       "      <td>4.0</td>\n",
       "      <td>Good academic overview</td>\n",
       "      <td>Philip Nel - Dr. Seuss: American IconThis is b...</td>\n",
       "      <td>Philip Nel takes a fascinating look into the k...</td>\n",
       "      <td>['Philip Nel']</td>\n",
       "      <td>http://books.google.com/books/content?id=IjvHQ...</td>\n",
       "      <td>['Biography &amp; Autobiography']</td>\n",
       "      <td>NaN</td>\n",
       "    </tr>\n",
       "    <tr>\n",
       "      <th>...</th>\n",
       "      <td>...</td>\n",
       "      <td>...</td>\n",
       "      <td>...</td>\n",
       "      <td>...</td>\n",
       "      <td>...</td>\n",
       "      <td>...</td>\n",
       "      <td>...</td>\n",
       "      <td>...</td>\n",
       "      <td>...</td>\n",
       "      <td>...</td>\n",
       "    </tr>\n",
       "    <tr>\n",
       "      <th>2999984</th>\n",
       "      <td>Ghost Story</td>\n",
       "      <td>Nicholas Pfeiffer</td>\n",
       "      <td>5.0</td>\n",
       "      <td>Great deal. thanks for the quick ship.</td>\n",
       "      <td>So far it is a really good book. I was very ha...</td>\n",
       "      <td>#1 New York Times bestselling author Peter Str...</td>\n",
       "      <td>['Peter Straub']</td>\n",
       "      <td>http://books.google.com/books/content?id=s_P2D...</td>\n",
       "      <td>['Fiction']</td>\n",
       "      <td>NaN</td>\n",
       "    </tr>\n",
       "    <tr>\n",
       "      <th>2999985</th>\n",
       "      <td>Ghost Story</td>\n",
       "      <td>Bill F. Mccann Jr.</td>\n",
       "      <td>5.0</td>\n",
       "      <td>Shivers me timbers!!!!!</td>\n",
       "      <td>The best \"ghost story\" I've ever read. Don't b...</td>\n",
       "      <td>#1 New York Times bestselling author Peter Str...</td>\n",
       "      <td>['Peter Straub']</td>\n",
       "      <td>http://books.google.com/books/content?id=s_P2D...</td>\n",
       "      <td>['Fiction']</td>\n",
       "      <td>NaN</td>\n",
       "    </tr>\n",
       "    <tr>\n",
       "      <th>2999986</th>\n",
       "      <td>Ghost Story</td>\n",
       "      <td>Kim Klein</td>\n",
       "      <td>5.0</td>\n",
       "      <td>Great Transactions!</td>\n",
       "      <td>It was a great transaction! The book was descr...</td>\n",
       "      <td>#1 New York Times bestselling author Peter Str...</td>\n",
       "      <td>['Peter Straub']</td>\n",
       "      <td>http://books.google.com/books/content?id=s_P2D...</td>\n",
       "      <td>['Fiction']</td>\n",
       "      <td>NaN</td>\n",
       "    </tr>\n",
       "    <tr>\n",
       "      <th>2999987</th>\n",
       "      <td>Ghost Story</td>\n",
       "      <td>James Janiesch</td>\n",
       "      <td>5.0</td>\n",
       "      <td>unbelievable condition</td>\n",
       "      <td>Purchased \"Ghost Story\" from \"Wonderbook and V...</td>\n",
       "      <td>#1 New York Times bestselling author Peter Str...</td>\n",
       "      <td>['Peter Straub']</td>\n",
       "      <td>http://books.google.com/books/content?id=s_P2D...</td>\n",
       "      <td>['Fiction']</td>\n",
       "      <td>NaN</td>\n",
       "    </tr>\n",
       "    <tr>\n",
       "      <th>2999988</th>\n",
       "      <td>An End to Welfare Rights: The Rediscovery of I...</td>\n",
       "      <td>Junglies</td>\n",
       "      <td>4.0</td>\n",
       "      <td>Heaven helps those who help themselves.</td>\n",
       "      <td>Another book on welfare reform. Dr. Green invo...</td>\n",
       "      <td>The rights-based welfare state is in need of r...</td>\n",
       "      <td>['David G. Green']</td>\n",
       "      <td>http://books.google.com/books/content?id=HU1HA...</td>\n",
       "      <td>['Political Science']</td>\n",
       "      <td>NaN</td>\n",
       "    </tr>\n",
       "  </tbody>\n",
       "</table>\n",
       "<p>1360694 rows × 10 columns</p>\n",
       "</div>"
      ],
      "text/plain": [
       "                                                     Title  \\\n",
       "0                           Its Only Art If Its Well Hung!   \n",
       "1                                 Dr. Seuss: American Icon   \n",
       "2                                 Dr. Seuss: American Icon   \n",
       "3                                 Dr. Seuss: American Icon   \n",
       "4                                 Dr. Seuss: American Icon   \n",
       "...                                                    ...   \n",
       "2999984                                        Ghost Story   \n",
       "2999985                                        Ghost Story   \n",
       "2999986                                        Ghost Story   \n",
       "2999987                                        Ghost Story   \n",
       "2999988  An End to Welfare Rights: The Rediscovery of I...   \n",
       "\n",
       "                                profileName  review/score  \\\n",
       "0                     Jim of Oz \"jim-of-oz\"           4.0   \n",
       "1                             Kevin Killian           5.0   \n",
       "2                              John Granger           5.0   \n",
       "3        Roy E. Perry \"amateur philosopher\"           4.0   \n",
       "4           D. H. Richards \"ninthwavestore\"           4.0   \n",
       "...                                     ...           ...   \n",
       "2999984                   Nicholas Pfeiffer           5.0   \n",
       "2999985                  Bill F. Mccann Jr.           5.0   \n",
       "2999986                           Kim Klein           5.0   \n",
       "2999987                      James Janiesch           5.0   \n",
       "2999988                            Junglies           4.0   \n",
       "\n",
       "                                          review/summary  \\\n",
       "0                 Nice collection of Julie Strain images   \n",
       "1                                      Really Enjoyed It   \n",
       "2        Essential for every personal and Public Library   \n",
       "3        Phlip Nel gives silly Seuss a serious treatment   \n",
       "4                                 Good academic overview   \n",
       "...                                                  ...   \n",
       "2999984           Great deal. thanks for the quick ship.   \n",
       "2999985                          Shivers me timbers!!!!!   \n",
       "2999986                              Great Transactions!   \n",
       "2999987                           unbelievable condition   \n",
       "2999988          Heaven helps those who help themselves.   \n",
       "\n",
       "                                               review/text  \\\n",
       "0        This is only for Julie Strain fans. It's a col...   \n",
       "1        I don't care much for Dr. Seuss but after read...   \n",
       "2        If people become the books they read and if \"t...   \n",
       "3        Theodore Seuss Geisel (1904-1991), aka &quot;D...   \n",
       "4        Philip Nel - Dr. Seuss: American IconThis is b...   \n",
       "...                                                    ...   \n",
       "2999984  So far it is a really good book. I was very ha...   \n",
       "2999985  The best \"ghost story\" I've ever read. Don't b...   \n",
       "2999986  It was a great transaction! The book was descr...   \n",
       "2999987  Purchased \"Ghost Story\" from \"Wonderbook and V...   \n",
       "2999988  Another book on welfare reform. Dr. Green invo...   \n",
       "\n",
       "                                               description  \\\n",
       "0                                                      NaN   \n",
       "1        Philip Nel takes a fascinating look into the k...   \n",
       "2        Philip Nel takes a fascinating look into the k...   \n",
       "3        Philip Nel takes a fascinating look into the k...   \n",
       "4        Philip Nel takes a fascinating look into the k...   \n",
       "...                                                    ...   \n",
       "2999984  #1 New York Times bestselling author Peter Str...   \n",
       "2999985  #1 New York Times bestselling author Peter Str...   \n",
       "2999986  #1 New York Times bestselling author Peter Str...   \n",
       "2999987  #1 New York Times bestselling author Peter Str...   \n",
       "2999988  The rights-based welfare state is in need of r...   \n",
       "\n",
       "                    authors  \\\n",
       "0          ['Julie Strain']   \n",
       "1            ['Philip Nel']   \n",
       "2            ['Philip Nel']   \n",
       "3            ['Philip Nel']   \n",
       "4            ['Philip Nel']   \n",
       "...                     ...   \n",
       "2999984    ['Peter Straub']   \n",
       "2999985    ['Peter Straub']   \n",
       "2999986    ['Peter Straub']   \n",
       "2999987    ['Peter Straub']   \n",
       "2999988  ['David G. Green']   \n",
       "\n",
       "                                                     image  \\\n",
       "0        http://books.google.com/books/content?id=DykPA...   \n",
       "1        http://books.google.com/books/content?id=IjvHQ...   \n",
       "2        http://books.google.com/books/content?id=IjvHQ...   \n",
       "3        http://books.google.com/books/content?id=IjvHQ...   \n",
       "4        http://books.google.com/books/content?id=IjvHQ...   \n",
       "...                                                    ...   \n",
       "2999984  http://books.google.com/books/content?id=s_P2D...   \n",
       "2999985  http://books.google.com/books/content?id=s_P2D...   \n",
       "2999986  http://books.google.com/books/content?id=s_P2D...   \n",
       "2999987  http://books.google.com/books/content?id=s_P2D...   \n",
       "2999988  http://books.google.com/books/content?id=HU1HA...   \n",
       "\n",
       "                            categories  ratingsCount  \n",
       "0          ['Comics & Graphic Novels']           NaN  \n",
       "1        ['Biography & Autobiography']           NaN  \n",
       "2        ['Biography & Autobiography']           NaN  \n",
       "3        ['Biography & Autobiography']           NaN  \n",
       "4        ['Biography & Autobiography']           NaN  \n",
       "...                                ...           ...  \n",
       "2999984                    ['Fiction']           NaN  \n",
       "2999985                    ['Fiction']           NaN  \n",
       "2999986                    ['Fiction']           NaN  \n",
       "2999987                    ['Fiction']           NaN  \n",
       "2999988          ['Political Science']           NaN  \n",
       "\n",
       "[1360694 rows x 10 columns]"
      ]
     },
     "execution_count": 13,
     "metadata": {},
     "output_type": "execute_result"
    }
   ],
   "source": [
    "df[df['ratingsCount'].isnull()]"
   ]
  },
  {
   "cell_type": "code",
   "execution_count": 14,
   "id": "45f01541-fee9-418b-9aa8-019d0f0b732e",
   "metadata": {
    "scrolled": true,
    "tags": []
   },
   "outputs": [
    {
     "data": {
      "text/html": [
       "<div>\n",
       "<style scoped>\n",
       "    .dataframe tbody tr th:only-of-type {\n",
       "        vertical-align: middle;\n",
       "    }\n",
       "\n",
       "    .dataframe tbody tr th {\n",
       "        vertical-align: top;\n",
       "    }\n",
       "\n",
       "    .dataframe thead th {\n",
       "        text-align: right;\n",
       "    }\n",
       "</style>\n",
       "<table border=\"1\" class=\"dataframe\">\n",
       "  <thead>\n",
       "    <tr style=\"text-align: right;\">\n",
       "      <th></th>\n",
       "      <th>Title</th>\n",
       "      <th>profileName</th>\n",
       "      <th>review/score</th>\n",
       "      <th>review/summary</th>\n",
       "      <th>review/text</th>\n",
       "      <th>description</th>\n",
       "      <th>authors</th>\n",
       "      <th>image</th>\n",
       "      <th>categories</th>\n",
       "      <th>ratingsCount</th>\n",
       "    </tr>\n",
       "  </thead>\n",
       "  <tbody>\n",
       "    <tr>\n",
       "      <th>0</th>\n",
       "      <td>Its Only Art If Its Well Hung!</td>\n",
       "      <td>Jim of Oz \"jim-of-oz\"</td>\n",
       "      <td>4.0</td>\n",
       "      <td>Nice collection of Julie Strain images</td>\n",
       "      <td>This is only for Julie Strain fans. It's a col...</td>\n",
       "      <td>NaN</td>\n",
       "      <td>['Julie Strain']</td>\n",
       "      <td>http://books.google.com/books/content?id=DykPA...</td>\n",
       "      <td>['Comics &amp; Graphic Novels']</td>\n",
       "      <td>NaN</td>\n",
       "    </tr>\n",
       "    <tr>\n",
       "      <th>46</th>\n",
       "      <td>Nation Dance: Religion, Identity and Cultural ...</td>\n",
       "      <td>Pink Noodle</td>\n",
       "      <td>5.0</td>\n",
       "      <td>interplay of traditions across Caribbean</td>\n",
       "      <td>from publisher:Addresses the interplay of dive...</td>\n",
       "      <td>NaN</td>\n",
       "      <td>['Edward Long']</td>\n",
       "      <td>NaN</td>\n",
       "      <td>NaN</td>\n",
       "      <td>NaN</td>\n",
       "    </tr>\n",
       "    <tr>\n",
       "      <th>51</th>\n",
       "      <td>The Overbury affair (Avon)</td>\n",
       "      <td>lisamac</td>\n",
       "      <td>3.0</td>\n",
       "      <td>Overbury</td>\n",
       "      <td>Full of intrigue and a good overview of the co...</td>\n",
       "      <td>NaN</td>\n",
       "      <td>['Miriam Allen De Ford']</td>\n",
       "      <td>NaN</td>\n",
       "      <td>NaN</td>\n",
       "      <td>NaN</td>\n",
       "    </tr>\n",
       "    <tr>\n",
       "      <th>52</th>\n",
       "      <td>A Walk in the Woods: a Play in Two Acts</td>\n",
       "      <td>Vinny Wolf</td>\n",
       "      <td>5.0</td>\n",
       "      <td>meaty and fast</td>\n",
       "      <td>This play was excellent. It's very smart, inte...</td>\n",
       "      <td>NaN</td>\n",
       "      <td>['Lee Blessing']</td>\n",
       "      <td>NaN</td>\n",
       "      <td>NaN</td>\n",
       "      <td>3.0</td>\n",
       "    </tr>\n",
       "    <tr>\n",
       "      <th>53</th>\n",
       "      <td>A Walk in the Woods: a Play in Two Acts</td>\n",
       "      <td>Shirleyann Costigan</td>\n",
       "      <td>4.0</td>\n",
       "      <td>Surprisingly delightful</td>\n",
       "      <td>This is a fast read filled with unexpected hum...</td>\n",
       "      <td>NaN</td>\n",
       "      <td>['Lee Blessing']</td>\n",
       "      <td>NaN</td>\n",
       "      <td>NaN</td>\n",
       "      <td>3.0</td>\n",
       "    </tr>\n",
       "    <tr>\n",
       "      <th>...</th>\n",
       "      <td>...</td>\n",
       "      <td>...</td>\n",
       "      <td>...</td>\n",
       "      <td>...</td>\n",
       "      <td>...</td>\n",
       "      <td>...</td>\n",
       "      <td>...</td>\n",
       "      <td>...</td>\n",
       "      <td>...</td>\n",
       "      <td>...</td>\n",
       "    </tr>\n",
       "    <tr>\n",
       "      <th>2999940</th>\n",
       "      <td>Shecky's Bar, Club and Lounge Guide for Chicago</td>\n",
       "      <td>American Express Giftcard \"Lele\"</td>\n",
       "      <td>5.0</td>\n",
       "      <td>DEAD ON</td>\n",
       "      <td>What's lame is lame and what's fun is fun, the...</td>\n",
       "      <td>NaN</td>\n",
       "      <td>['Chris Hoffman']</td>\n",
       "      <td>http://books.google.com/books/content?id=1ypxP...</td>\n",
       "      <td>['Travel']</td>\n",
       "      <td>NaN</td>\n",
       "    </tr>\n",
       "    <tr>\n",
       "      <th>2999941</th>\n",
       "      <td>Shecky's Bar, Club and Lounge Guide for Chicago</td>\n",
       "      <td>Rick B.</td>\n",
       "      <td>4.0</td>\n",
       "      <td>Dead-on reviews</td>\n",
       "      <td>I've had a copy of this book and enjoyed readi...</td>\n",
       "      <td>NaN</td>\n",
       "      <td>['Chris Hoffman']</td>\n",
       "      <td>http://books.google.com/books/content?id=1ypxP...</td>\n",
       "      <td>['Travel']</td>\n",
       "      <td>NaN</td>\n",
       "    </tr>\n",
       "    <tr>\n",
       "      <th>2999942</th>\n",
       "      <td>Shecky's Bar, Club and Lounge Guide for Chicago</td>\n",
       "      <td>beer drinker</td>\n",
       "      <td>1.0</td>\n",
       "      <td>Shecky's is ...</td>\n",
       "      <td>Ugh. This book manages to take the colorful un...</td>\n",
       "      <td>NaN</td>\n",
       "      <td>['Chris Hoffman']</td>\n",
       "      <td>http://books.google.com/books/content?id=1ypxP...</td>\n",
       "      <td>['Travel']</td>\n",
       "      <td>NaN</td>\n",
       "    </tr>\n",
       "    <tr>\n",
       "      <th>2999943</th>\n",
       "      <td>Shecky's Bar, Club and Lounge Guide for Chicago</td>\n",
       "      <td>Gregg Henris</td>\n",
       "      <td>3.0</td>\n",
       "      <td>Hip and Happen'n</td>\n",
       "      <td>A must-have for your coffee table or barstool....</td>\n",
       "      <td>NaN</td>\n",
       "      <td>['Chris Hoffman']</td>\n",
       "      <td>http://books.google.com/books/content?id=1ypxP...</td>\n",
       "      <td>['Travel']</td>\n",
       "      <td>NaN</td>\n",
       "    </tr>\n",
       "    <tr>\n",
       "      <th>2999976</th>\n",
       "      <td>Better Homes and Gardens Casual Entertaining C...</td>\n",
       "      <td>\"knitwhit\"</td>\n",
       "      <td>5.0</td>\n",
       "      <td>In the Top Five</td>\n",
       "      <td>Out of the 200 odd cookbooks I own, this one i...</td>\n",
       "      <td>NaN</td>\n",
       "      <td>NaN</td>\n",
       "      <td>NaN</td>\n",
       "      <td>['Entertaining']</td>\n",
       "      <td>NaN</td>\n",
       "    </tr>\n",
       "  </tbody>\n",
       "</table>\n",
       "<p>640225 rows × 10 columns</p>\n",
       "</div>"
      ],
      "text/plain": [
       "                                                     Title  \\\n",
       "0                           Its Only Art If Its Well Hung!   \n",
       "46       Nation Dance: Religion, Identity and Cultural ...   \n",
       "51                              The Overbury affair (Avon)   \n",
       "52                 A Walk in the Woods: a Play in Two Acts   \n",
       "53                 A Walk in the Woods: a Play in Two Acts   \n",
       "...                                                    ...   \n",
       "2999940    Shecky's Bar, Club and Lounge Guide for Chicago   \n",
       "2999941    Shecky's Bar, Club and Lounge Guide for Chicago   \n",
       "2999942    Shecky's Bar, Club and Lounge Guide for Chicago   \n",
       "2999943    Shecky's Bar, Club and Lounge Guide for Chicago   \n",
       "2999976  Better Homes and Gardens Casual Entertaining C...   \n",
       "\n",
       "                              profileName  review/score  \\\n",
       "0                   Jim of Oz \"jim-of-oz\"           4.0   \n",
       "46                            Pink Noodle           5.0   \n",
       "51                                lisamac           3.0   \n",
       "52                             Vinny Wolf           5.0   \n",
       "53                    Shirleyann Costigan           4.0   \n",
       "...                                   ...           ...   \n",
       "2999940  American Express Giftcard \"Lele\"           5.0   \n",
       "2999941                           Rick B.           4.0   \n",
       "2999942                      beer drinker           1.0   \n",
       "2999943                      Gregg Henris           3.0   \n",
       "2999976                        \"knitwhit\"           5.0   \n",
       "\n",
       "                                   review/summary  \\\n",
       "0          Nice collection of Julie Strain images   \n",
       "46       interplay of traditions across Caribbean   \n",
       "51                                       Overbury   \n",
       "52                                 meaty and fast   \n",
       "53                        Surprisingly delightful   \n",
       "...                                           ...   \n",
       "2999940                                   DEAD ON   \n",
       "2999941                           Dead-on reviews   \n",
       "2999942                           Shecky's is ...   \n",
       "2999943                          Hip and Happen'n   \n",
       "2999976                           In the Top Five   \n",
       "\n",
       "                                               review/text description  \\\n",
       "0        This is only for Julie Strain fans. It's a col...         NaN   \n",
       "46       from publisher:Addresses the interplay of dive...         NaN   \n",
       "51       Full of intrigue and a good overview of the co...         NaN   \n",
       "52       This play was excellent. It's very smart, inte...         NaN   \n",
       "53       This is a fast read filled with unexpected hum...         NaN   \n",
       "...                                                    ...         ...   \n",
       "2999940  What's lame is lame and what's fun is fun, the...         NaN   \n",
       "2999941  I've had a copy of this book and enjoyed readi...         NaN   \n",
       "2999942  Ugh. This book manages to take the colorful un...         NaN   \n",
       "2999943  A must-have for your coffee table or barstool....         NaN   \n",
       "2999976  Out of the 200 odd cookbooks I own, this one i...         NaN   \n",
       "\n",
       "                          authors  \\\n",
       "0                ['Julie Strain']   \n",
       "46                ['Edward Long']   \n",
       "51       ['Miriam Allen De Ford']   \n",
       "52               ['Lee Blessing']   \n",
       "53               ['Lee Blessing']   \n",
       "...                           ...   \n",
       "2999940         ['Chris Hoffman']   \n",
       "2999941         ['Chris Hoffman']   \n",
       "2999942         ['Chris Hoffman']   \n",
       "2999943         ['Chris Hoffman']   \n",
       "2999976                       NaN   \n",
       "\n",
       "                                                     image  \\\n",
       "0        http://books.google.com/books/content?id=DykPA...   \n",
       "46                                                     NaN   \n",
       "51                                                     NaN   \n",
       "52                                                     NaN   \n",
       "53                                                     NaN   \n",
       "...                                                    ...   \n",
       "2999940  http://books.google.com/books/content?id=1ypxP...   \n",
       "2999941  http://books.google.com/books/content?id=1ypxP...   \n",
       "2999942  http://books.google.com/books/content?id=1ypxP...   \n",
       "2999943  http://books.google.com/books/content?id=1ypxP...   \n",
       "2999976                                                NaN   \n",
       "\n",
       "                          categories  ratingsCount  \n",
       "0        ['Comics & Graphic Novels']           NaN  \n",
       "46                               NaN           NaN  \n",
       "51                               NaN           NaN  \n",
       "52                               NaN           3.0  \n",
       "53                               NaN           3.0  \n",
       "...                              ...           ...  \n",
       "2999940                   ['Travel']           NaN  \n",
       "2999941                   ['Travel']           NaN  \n",
       "2999942                   ['Travel']           NaN  \n",
       "2999943                   ['Travel']           NaN  \n",
       "2999976             ['Entertaining']           NaN  \n",
       "\n",
       "[640225 rows x 10 columns]"
      ]
     },
     "execution_count": 14,
     "metadata": {},
     "output_type": "execute_result"
    }
   ],
   "source": [
    "df[df['description'].isnull()]"
   ]
  },
  {
   "cell_type": "code",
   "execution_count": 15,
   "id": "35cd1c21-4d91-4b01-990d-8c88a3ba520c",
   "metadata": {},
   "outputs": [],
   "source": [
    "df.dropna(subset = ['Title',\n",
    "                    'profileName',\n",
    "                    'review/summary',\n",
    "                    'review/text',\n",
    "                    'description',\n",
    "                    'authors',\n",
    "                    'image',\n",
    "                    'categories',\n",
    "                   'ratingsCount'], inplace = True)"
   ]
  },
  {
   "cell_type": "code",
   "execution_count": 16,
   "id": "292e5c20-56ce-4300-840d-014bdea570de",
   "metadata": {
    "scrolled": true,
    "tags": []
   },
   "outputs": [
    {
     "data": {
      "text/plain": [
       "Title             0\n",
       "profileName       0\n",
       "review/score      0\n",
       "review/summary    0\n",
       "review/text       0\n",
       "description       0\n",
       "authors           0\n",
       "image             0\n",
       "categories        0\n",
       "ratingsCount      0\n",
       "dtype: int64"
      ]
     },
     "execution_count": 16,
     "metadata": {},
     "output_type": "execute_result"
    }
   ],
   "source": [
    "df.isnull().sum()"
   ]
  },
  {
   "cell_type": "markdown",
   "id": "267b4a50-0b37-41c5-91d7-d842b062bbcf",
   "metadata": {},
   "source": [
    "Note: In columns 'authors' and 'categories', the data is structured with brackets and quotations around the value (e.g. Fiction was written as ['Fiction']) that I then removed by replacing them with spaces."
   ]
  },
  {
   "cell_type": "code",
   "execution_count": 17,
   "id": "5c70517e-37fe-4750-ae7d-223206345882",
   "metadata": {},
   "outputs": [],
   "source": [
    "updating_columns = ['authors', 'categories']"
   ]
  },
  {
   "cell_type": "code",
   "execution_count": 18,
   "id": "b616eff5-f08c-4b75-a336-93e6af761341",
   "metadata": {},
   "outputs": [],
   "source": [
    "for column in updating_columns:\n",
    "    df[column] = df[column].map(lambda x: x.replace(\"[\", \"\").replace(\"]\", \"\").replace(\"'\", \"\").replace(\"'\", \"\"))"
   ]
  },
  {
   "cell_type": "markdown",
   "id": "6b52b6b2-918c-4d94-aa08-0a90183bb437",
   "metadata": {},
   "source": [
    "## Creating Subset Datasets\n",
    "\n",
    "After removing the null values, I'm left with over 1 million rows of data which would take time to run through any model. I decided to create random samples of the dataset categorized by genres, reviews, and description. I performed a value_counts on the \"categories\" for the DataFrame to find Fiction, Juvenile Fiction, and Biography & Autobiography were the most-occurring types of books reviewed. In the histograms below, we note that the DataFrame is significantly left-skewed with a majority having less than 100 reviews on the book. Since we will have a random sample of the overall DataFrame, I created a dataset that are the most-reviewed of the DataFrame. All of the datasets were 50k because of memory capacity. "
   ]
  },
  {
   "cell_type": "code",
   "execution_count": 19,
   "id": "91cecadd-b7bb-44f8-9c5c-af82a56888e7",
   "metadata": {},
   "outputs": [
    {
     "name": "stdout",
     "output_type": "stream",
     "text": [
      "<class 'pandas.core.frame.DataFrame'>\n",
      "Int64Index: 1175206 entries, 47 to 2999998\n",
      "Data columns (total 10 columns):\n",
      " #   Column          Non-Null Count    Dtype  \n",
      "---  ------          --------------    -----  \n",
      " 0   Title           1175206 non-null  object \n",
      " 1   profileName     1175206 non-null  object \n",
      " 2   review/score    1175206 non-null  float64\n",
      " 3   review/summary  1175206 non-null  object \n",
      " 4   review/text     1175206 non-null  object \n",
      " 5   description     1175206 non-null  object \n",
      " 6   authors         1175206 non-null  object \n",
      " 7   image           1175206 non-null  object \n",
      " 8   categories      1175206 non-null  object \n",
      " 9   ratingsCount    1175206 non-null  float64\n",
      "dtypes: float64(2), object(8)\n",
      "memory usage: 98.6+ MB\n"
     ]
    }
   ],
   "source": [
    "df.info()"
   ]
  },
  {
   "cell_type": "markdown",
   "id": "0d2e2b73-55e5-40ba-b802-d4b5a077ea1e",
   "metadata": {},
   "source": [
    "### Datasets of Top 3 Genres"
   ]
  },
  {
   "cell_type": "code",
   "execution_count": 20,
   "id": "570b3ce3-e3e2-41a3-906d-1c9942c1dd36",
   "metadata": {},
   "outputs": [
    {
     "data": {
      "text/plain": [
       "Fiction                             505673\n",
       "Juvenile Fiction                    117789\n",
       "Biography & Autobiography            61204\n",
       "Religion                             54970\n",
       "History                              46531\n",
       "                                     ...  \n",
       "Broadway (New York, N.Y.)                1\n",
       "Grandmothers                             1\n",
       "Cinderella (Legendary character)         1\n",
       "Punjab (India)                           1\n",
       "Feminists                                1\n",
       "Name: categories, Length: 1483, dtype: int64"
      ]
     },
     "execution_count": 20,
     "metadata": {},
     "output_type": "execute_result"
    }
   ],
   "source": [
    "df['categories'].value_counts()"
   ]
  },
  {
   "cell_type": "code",
   "execution_count": 21,
   "id": "af720a3f-0426-486b-a637-7e756ca59670",
   "metadata": {
    "scrolled": true,
    "tags": []
   },
   "outputs": [],
   "source": [
    "fiction_df = df[df['categories'] == \"Fiction\"]\n",
    "fiction_sample = fiction_df.sample(n = 50_000)"
   ]
  },
  {
   "cell_type": "code",
   "execution_count": 22,
   "id": "3e2eb9e5-611b-4081-8422-accce2e80810",
   "metadata": {},
   "outputs": [],
   "source": [
    "fiction_sample.to_csv('data/fiction_sample.csv', index = False)"
   ]
  },
  {
   "cell_type": "code",
   "execution_count": 23,
   "id": "2bf4e949-b7e7-4bd2-b460-096f8918989a",
   "metadata": {},
   "outputs": [],
   "source": [
    "jvf_df = df[df['categories'] == \"Juvenile Fiction\"]\n",
    "jvf_sample = jvf_df.sample(n = 50_000)"
   ]
  },
  {
   "cell_type": "code",
   "execution_count": 24,
   "id": "bf7fea06-1101-405d-9dd7-9f8191d4c461",
   "metadata": {},
   "outputs": [],
   "source": [
    "jvf_sample.to_csv('data/jvf_sample.csv', index = False)"
   ]
  },
  {
   "cell_type": "code",
   "execution_count": 25,
   "id": "8bd6c0a5-13bc-4728-ad1d-5fe51adaceae",
   "metadata": {},
   "outputs": [],
   "source": [
    "bio_df = df[df['categories'] == \"Biography & Autobiography\"]\n",
    "bio_sample = bio_df.sample(n = 50_000)"
   ]
  },
  {
   "cell_type": "code",
   "execution_count": 26,
   "id": "e8ca9026-bedd-41f7-98c1-e81b5c3c3c01",
   "metadata": {},
   "outputs": [],
   "source": [
    "bio_sample.to_csv('data/bio_sample.csv', index = False)"
   ]
  },
  {
   "cell_type": "markdown",
   "id": "3115e234-2e7f-4eff-b09b-309ba9ace91f",
   "metadata": {},
   "source": [
    "### Dataset with the High Number of Reviews"
   ]
  },
  {
   "cell_type": "code",
   "execution_count": 30,
   "id": "a36b489e-54e6-4e62-b2f8-dbc5760cd00d",
   "metadata": {},
   "outputs": [
    {
     "data": {
      "text/plain": [
       "1.0       175889\n",
       "2.0       102489\n",
       "3.0        71405\n",
       "4.0        47078\n",
       "5.0        40743\n",
       "           ...  \n",
       "4249.0      1211\n",
       "4392.0        30\n",
       "4562.0       618\n",
       "4572.0         4\n",
       "4895.0        13\n",
       "Name: ratingsCount, Length: 461, dtype: int64"
      ]
     },
     "execution_count": 30,
     "metadata": {},
     "output_type": "execute_result"
    }
   ],
   "source": [
    "df['ratingsCount'].value_counts(ascending = False).sort_index()"
   ]
  },
  {
   "cell_type": "code",
   "execution_count": 31,
   "id": "561f2de4-363c-46ad-b48e-783a1678b9e7",
   "metadata": {},
   "outputs": [],
   "source": [
    "rating_counts = df['ratingsCount'].value_counts()"
   ]
  },
  {
   "cell_type": "code",
   "execution_count": 33,
   "id": "9c9ed25a-8f4f-45a8-886e-5e6dc9e01075",
   "metadata": {},
   "outputs": [
    {
     "data": {
      "image/png": "[encoded data removed]",
      "text/plain": [
       "<Figure size 640x480 with 1 Axes>"
      ]
     },
     "metadata": {},
     "output_type": "display_data"
    }
   ],
   "source": [
    "plt.bar(rating_counts.index, rating_counts.values)\n",
    "plt.xlabel('Number of Ratings')\n",
    "plt.ylabel('Number of Books')\n",
    "plt.xlim(0, 3_000)\n",
    "plt.ylim(0, 5_000) # taking into account outliers abov \n",
    "plt.title('Distribution of Rating Counts Among Books');"
   ]
  },
  {
   "cell_type": "code",
   "execution_count": 34,
   "id": "3831fd2a-1d89-424b-88f2-8a21d17201c8",
   "metadata": {},
   "outputs": [],
   "source": [
    "frame = df[(df['ratingsCount'] >= 0) & (df['ratingsCount'] <= 3000)]"
   ]
  },
  {
   "cell_type": "code",
   "execution_count": 35,
   "id": "d17923be-cd10-4602-aa1a-1d8bec706e79",
   "metadata": {},
   "outputs": [],
   "source": [
    "frame_ratings = frame['ratingsCount'].value_counts()"
   ]
  },
  {
   "cell_type": "code",
   "execution_count": 36,
   "id": "628d56ef-133c-464e-a726-bb5dfe354dc4",
   "metadata": {},
   "outputs": [
    {
     "data": {
      "image/png": "[encoded data removed]",
      "text/plain": [
       "<Figure size 640x480 with 1 Axes>"
      ]
     },
     "metadata": {},
     "output_type": "display_data"
    }
   ],
   "source": [
    "plt.bar(frame_ratings.index, frame_ratings.values)\n",
    "plt.xlabel('Number of Ratings')\n",
    "plt.ylabel('Number of Books')\n",
    "plt.xlim(0, 2000)\n",
    "plt.ylim(0, 8_000)\n",
    "plt.title('Distribution of Rating Counts Among Books');"
   ]
  },
  {
   "cell_type": "markdown",
   "id": "2244964e-420a-4cfe-becb-49dd85fadf63",
   "metadata": {},
   "source": [
    "For this section, I made a random sample of books with a high review count based on what my histograms showed. I will have an overall sample of the DataFrame, so this condition will enable me to have a selection of \"popular\" books to recommend for others."
   ]
  },
  {
   "cell_type": "code",
   "execution_count": 37,
   "id": "6f937890-5b8d-449d-87c2-ddec5b10b2aa",
   "metadata": {
    "scrolled": true,
    "tags": []
   },
   "outputs": [],
   "source": [
    "review_df = df[df['ratingsCount'] > 2000]\n",
    "review_sample = review_df.sample(n = 50_000)"
   ]
  },
  {
   "cell_type": "code",
   "execution_count": 38,
   "id": "9ccfb6d9-6560-45ce-a980-3710329c4f1f",
   "metadata": {},
   "outputs": [],
   "source": [
    "review_sample.to_csv('data/review_sample.csv', index = False)"
   ]
  },
  {
   "cell_type": "markdown",
   "id": "b77a2f21-e9f1-4f9f-8a8d-e104f4eb2446",
   "metadata": {},
   "source": [
    "### Dataset from Overall DataFrame"
   ]
  },
  {
   "cell_type": "code",
   "execution_count": 39,
   "id": "8def651e-921c-4671-9ffd-d7fbb1967dd0",
   "metadata": {},
   "outputs": [],
   "source": [
    "overall_sample = df.sample(n = 50_000)"
   ]
  },
  {
   "cell_type": "code",
   "execution_count": 40,
   "id": "2893fe1b-dfef-40a8-bb82-ca444bee73bf",
   "metadata": {},
   "outputs": [],
   "source": [
    "overall_sample.to_csv('data/overall_sample.csv', index = False)"
   ]
  },
  {
   "cell_type": "code",
   "execution_count": 41,
   "id": "acc9270d-0bac-4d58-ac73-fbf8d27ffba4",
   "metadata": {},
   "outputs": [
    {
     "data": {
      "text/plain": [
       "14651"
      ]
     },
     "execution_count": 41,
     "metadata": {},
     "output_type": "execute_result"
    }
   ],
   "source": [
    "overall_sample['Title'].nunique() #14651 books reviewed"
   ]
  },
  {
   "cell_type": "code",
   "execution_count": 42,
   "id": "b810b70b-3ff1-41d8-99d6-e7354013fee0",
   "metadata": {},
   "outputs": [
    {
     "data": {
      "text/plain": [
       "39678"
      ]
     },
     "execution_count": 42,
     "metadata": {},
     "output_type": "execute_result"
    }
   ],
   "source": [
    "overall_sample['profileName'].nunique() #39678 users that reviewed books"
   ]
  },
  {
   "cell_type": "code",
   "execution_count": null,
   "id": "c6574d91-e07e-45d3-b3df-4236ebc356be",
   "metadata": {},
   "outputs": [],
   "source": []
  }
 ],
 "metadata": {
  "kernelspec": {
   "display_name": "Python 3 (ipykernel)",
   "language": "python",
   "name": "python3"
  },
  "language_info": {
   "codemirror_mode": {
    "name": "ipython",
    "version": 3
   },
   "file_extension": ".py",
   "mimetype": "text/x-python",
   "name": "python",
   "nbconvert_exporter": "python",
   "pygments_lexer": "ipython3",
   "version": "3.9.13"
  }
 },
 "nbformat": 4,
 "nbformat_minor": 5
}
