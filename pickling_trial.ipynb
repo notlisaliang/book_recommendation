{
 "cells": [
  {
   "cell_type": "code",
   "execution_count": 1,
   "id": "e37d58a0-bef2-4976-889d-3fff2afea51e",
   "metadata": {},
   "outputs": [],
   "source": [
    "import pandas as pd\n",
    "import pickle\n",
    "\n",
    "from sklearn.feature_extraction.text import CountVectorizer, TfidfVectorizer\n",
    "from sklearn.model_selection import train_test_split\n",
    "from sklearn.naive_bayes import MultinomialNB\n",
    "from sklearn.pipeline import Pipeline"
   ]
  },
  {
   "cell_type": "code",
   "execution_count": 2,
   "id": "71c42946-2cfd-49da-b470-7613a038e2df",
   "metadata": {},
   "outputs": [],
   "source": [
    "bio_df = pd.read_csv('./data/bio_sample.csv')"
   ]
  },
  {
   "cell_type": "code",
   "execution_count": 3,
   "id": "ea9d7fc0-3a0e-4e47-b9f1-84caf97f627e",
   "metadata": {},
   "outputs": [
    {
     "data": {
      "text/html": [
       "<div>\n",
       "<style scoped>\n",
       "    .dataframe tbody tr th:only-of-type {\n",
       "        vertical-align: middle;\n",
       "    }\n",
       "\n",
       "    .dataframe tbody tr th {\n",
       "        vertical-align: top;\n",
       "    }\n",
       "\n",
       "    .dataframe thead th {\n",
       "        text-align: right;\n",
       "    }\n",
       "</style>\n",
       "<table border=\"1\" class=\"dataframe\">\n",
       "  <thead>\n",
       "    <tr style=\"text-align: right;\">\n",
       "      <th></th>\n",
       "      <th>Title</th>\n",
       "      <th>profileName</th>\n",
       "      <th>review/score</th>\n",
       "      <th>review/summary</th>\n",
       "      <th>review/text</th>\n",
       "      <th>description</th>\n",
       "      <th>authors</th>\n",
       "      <th>image</th>\n",
       "      <th>categories</th>\n",
       "      <th>ratingsCount</th>\n",
       "    </tr>\n",
       "  </thead>\n",
       "  <tbody>\n",
       "    <tr>\n",
       "      <th>0</th>\n",
       "      <td>Genghis Khan: Life, Death and Resurrection</td>\n",
       "      <td>P. Carey</td>\n",
       "      <td>2.0</td>\n",
       "      <td>Not a great book</td>\n",
       "      <td>Read both this book and Genghis Khan and the M...</td>\n",
       "      <td>Genghis Khan is one of history's immortals, al...</td>\n",
       "      <td>John Man</td>\n",
       "      <td>http://books.google.com/books/content?id=0eEKA...</td>\n",
       "      <td>Biography &amp; Autobiography</td>\n",
       "      <td>3.0</td>\n",
       "    </tr>\n",
       "    <tr>\n",
       "      <th>1</th>\n",
       "      <td>Queen Victoria</td>\n",
       "      <td>Linda Baker \"quiltsbylin\"</td>\n",
       "      <td>5.0</td>\n",
       "      <td>Masterful &amp; a charming piece of true history</td>\n",
       "      <td>I went into this book after watching most of t...</td>\n",
       "      <td>Commemorating the centennial of Queen Victoria...</td>\n",
       "      <td>Christopher Hibbert</td>\n",
       "      <td>http://books.google.com/books/content?id=uWlnA...</td>\n",
       "      <td>Biography &amp; Autobiography</td>\n",
       "      <td>5.0</td>\n",
       "    </tr>\n",
       "  </tbody>\n",
       "</table>\n",
       "</div>"
      ],
      "text/plain": [
       "                                        Title                profileName  \\\n",
       "0  Genghis Khan: Life, Death and Resurrection                   P. Carey   \n",
       "1                              Queen Victoria  Linda Baker \"quiltsbylin\"   \n",
       "\n",
       "   review/score                                review/summary  \\\n",
       "0           2.0                              Not a great book   \n",
       "1           5.0  Masterful & a charming piece of true history   \n",
       "\n",
       "                                         review/text  \\\n",
       "0  Read both this book and Genghis Khan and the M...   \n",
       "1  I went into this book after watching most of t...   \n",
       "\n",
       "                                         description              authors  \\\n",
       "0  Genghis Khan is one of history's immortals, al...             John Man   \n",
       "1  Commemorating the centennial of Queen Victoria...  Christopher Hibbert   \n",
       "\n",
       "                                               image  \\\n",
       "0  http://books.google.com/books/content?id=0eEKA...   \n",
       "1  http://books.google.com/books/content?id=uWlnA...   \n",
       "\n",
       "                  categories  ratingsCount  \n",
       "0  Biography & Autobiography           3.0  \n",
       "1  Biography & Autobiography           5.0  "
      ]
     },
     "execution_count": 3,
     "metadata": {},
     "output_type": "execute_result"
    }
   ],
   "source": [
    "bio_df.head(2)"
   ]
  },
  {
   "cell_type": "code",
   "execution_count": 4,
   "id": "c95272a6-9a77-47fc-857f-d3e6a9d8d343",
   "metadata": {},
   "outputs": [],
   "source": [
    "X = bio_df['description']\n",
    "y = bio_df['Title']"
   ]
  },
  {
   "cell_type": "code",
   "execution_count": 5,
   "id": "2c022f45-b195-47f1-beab-83cab232c1cc",
   "metadata": {},
   "outputs": [],
   "source": [
    "X_train, X_test, y_train, y_test = train_test_split(X, y, random_state=42)"
   ]
  },
  {
   "cell_type": "code",
   "execution_count": 6,
   "id": "a9f9e2cc-8b4f-487f-aa3b-c9fcefef821f",
   "metadata": {},
   "outputs": [],
   "source": [
    "def my_lemmatizer(text):\n",
    "    wnet = WordNetLemmatizer()\n",
    "    return [wnet.lemmatize(w) for w in text.split()]"
   ]
  },
  {
   "cell_type": "code",
   "execution_count": 7,
   "id": "44590efe-7680-4a65-9e16-0e30a73f65dc",
   "metadata": {},
   "outputs": [],
   "source": [
    "from sklearn.feature_extraction import text\n",
    "from nltk.corpus import stopwords\n",
    "from nltk.stem import WordNetLemmatizer\n",
    "import re"
   ]
  },
  {
   "cell_type": "code",
   "execution_count": 8,
   "id": "36f9f32d-3e99-45e5-b203-682569f93bca",
   "metadata": {},
   "outputs": [],
   "source": [
    "wnet = WordNetLemmatizer()\n",
    "lem_stopwords = [wnet.lemmatize(w) for w in stopwords.words('english')]\n",
    "new_stopword = 've'\n",
    "\n",
    "lem_stopwords = lem_stopwords + [wnet.lemmatize(new_stopword)]"
   ]
  },
  {
   "cell_type": "code",
   "execution_count": 9,
   "id": "2cd5c890-aa74-49b1-a4a7-54aae866f4f8",
   "metadata": {},
   "outputs": [],
   "source": [
    "pipe = Pipeline([\n",
    "    ('tf', TfidfVectorizer(stop_words = lem_stopwords, \n",
    "                           tokenizer = my_lemmatizer,\n",
    "                           token_pattern = None,\n",
    "                           max_features = 1_000)),\n",
    "    ('mnb', MultinomialNB(alpha = 0.5))\n",
    "])"
   ]
  },
  {
   "cell_type": "code",
   "execution_count": 36,
   "id": "3f916abb-3ba2-489f-881b-b782c922d901",
   "metadata": {},
   "outputs": [
    {
     "data": {
      "text/html": [
       "<style>#sk-container-id-2 {color: black;background-color: white;}#sk-container-id-2 pre{padding: 0;}#sk-container-id-2 div.sk-toggleable {background-color: white;}#sk-container-id-2 label.sk-toggleable__label {cursor: pointer;display: block;width: 100%;margin-bottom: 0;padding: 0.3em;box-sizing: border-box;text-align: center;}#sk-container-id-2 label.sk-toggleable__label-arrow:before {content: \"▸\";float: left;margin-right: 0.25em;color: #696969;}#sk-container-id-2 label.sk-toggleable__label-arrow:hover:before {color: black;}#sk-container-id-2 div.sk-estimator:hover label.sk-toggleable__label-arrow:before {color: black;}#sk-container-id-2 div.sk-toggleable__content {max-height: 0;max-width: 0;overflow: hidden;text-align: left;background-color: #f0f8ff;}#sk-container-id-2 div.sk-toggleable__content pre {margin: 0.2em;color: black;border-radius: 0.25em;background-color: #f0f8ff;}#sk-container-id-2 input.sk-toggleable__control:checked~div.sk-toggleable__content {max-height: 200px;max-width: 100%;overflow: auto;}#sk-container-id-2 input.sk-toggleable__control:checked~label.sk-toggleable__label-arrow:before {content: \"▾\";}#sk-container-id-2 div.sk-estimator input.sk-toggleable__control:checked~label.sk-toggleable__label {background-color: #d4ebff;}#sk-container-id-2 div.sk-label input.sk-toggleable__control:checked~label.sk-toggleable__label {background-color: #d4ebff;}#sk-container-id-2 input.sk-hidden--visually {border: 0;clip: rect(1px 1px 1px 1px);clip: rect(1px, 1px, 1px, 1px);height: 1px;margin: -1px;overflow: hidden;padding: 0;position: absolute;width: 1px;}#sk-container-id-2 div.sk-estimator {font-family: monospace;background-color: #f0f8ff;border: 1px dotted black;border-radius: 0.25em;box-sizing: border-box;margin-bottom: 0.5em;}#sk-container-id-2 div.sk-estimator:hover {background-color: #d4ebff;}#sk-container-id-2 div.sk-parallel-item::after {content: \"\";width: 100%;border-bottom: 1px solid gray;flex-grow: 1;}#sk-container-id-2 div.sk-label:hover label.sk-toggleable__label {background-color: #d4ebff;}#sk-container-id-2 div.sk-serial::before {content: \"\";position: absolute;border-left: 1px solid gray;box-sizing: border-box;top: 0;bottom: 0;left: 50%;z-index: 0;}#sk-container-id-2 div.sk-serial {display: flex;flex-direction: column;align-items: center;background-color: white;padding-right: 0.2em;padding-left: 0.2em;position: relative;}#sk-container-id-2 div.sk-item {position: relative;z-index: 1;}#sk-container-id-2 div.sk-parallel {display: flex;align-items: stretch;justify-content: center;background-color: white;position: relative;}#sk-container-id-2 div.sk-item::before, #sk-container-id-2 div.sk-parallel-item::before {content: \"\";position: absolute;border-left: 1px solid gray;box-sizing: border-box;top: 0;bottom: 0;left: 50%;z-index: -1;}#sk-container-id-2 div.sk-parallel-item {display: flex;flex-direction: column;z-index: 1;position: relative;background-color: white;}#sk-container-id-2 div.sk-parallel-item:first-child::after {align-self: flex-end;width: 50%;}#sk-container-id-2 div.sk-parallel-item:last-child::after {align-self: flex-start;width: 50%;}#sk-container-id-2 div.sk-parallel-item:only-child::after {width: 0;}#sk-container-id-2 div.sk-dashed-wrapped {border: 1px dashed gray;margin: 0 0.4em 0.5em 0.4em;box-sizing: border-box;padding-bottom: 0.4em;background-color: white;}#sk-container-id-2 div.sk-label label {font-family: monospace;font-weight: bold;display: inline-block;line-height: 1.2em;}#sk-container-id-2 div.sk-label-container {text-align: center;}#sk-container-id-2 div.sk-container {/* jupyter's `normalize.less` sets `[hidden] { display: none; }` but bootstrap.min.css set `[hidden] { display: none !important; }` so we also need the `!important` here to be able to override the default hidden behavior on the sphinx rendered scikit-learn.org. See: https://github.com/scikit-learn/scikit-learn/issues/21755 */display: inline-block !important;position: relative;}#sk-container-id-2 div.sk-text-repr-fallback {display: none;}</style><div id=\"sk-container-id-2\" class=\"sk-top-container\"><div class=\"sk-text-repr-fallback\"><pre>Pipeline(steps=[(&#x27;tf&#x27;,\n",
       "                 TfidfVectorizer(max_features=1000,\n",
       "                                 stop_words=[&#x27;i&#x27;, &#x27;me&#x27;, &#x27;my&#x27;, &#x27;myself&#x27;, &#x27;we&#x27;,\n",
       "                                             &#x27;our&#x27;, &#x27;ours&#x27;, &#x27;ourselves&#x27;, &#x27;you&#x27;,\n",
       "                                             &quot;you&#x27;re&quot;, &quot;you&#x27;ve&quot;, &quot;you&#x27;ll&quot;,\n",
       "                                             &quot;you&#x27;d&quot;, &#x27;your&#x27;, &#x27;yours&#x27;,\n",
       "                                             &#x27;yourself&#x27;, &#x27;yourselves&#x27;, &#x27;he&#x27;,\n",
       "                                             &#x27;him&#x27;, &#x27;his&#x27;, &#x27;himself&#x27;, &#x27;she&#x27;,\n",
       "                                             &quot;she&#x27;s&quot;, &#x27;her&#x27;, &#x27;hers&#x27;, &#x27;herself&#x27;,\n",
       "                                             &#x27;it&#x27;, &quot;it&#x27;s&quot;, &#x27;it&#x27;, &#x27;itself&#x27;, ...],\n",
       "                                 token_pattern=None,\n",
       "                                 tokenizer=&lt;function my_lemmatizer at 0x7feb0a1bdb80&gt;)),\n",
       "                (&#x27;mnb&#x27;, MultinomialNB(alpha=0.5))])</pre><b>In a Jupyter environment, please rerun this cell to show the HTML representation or trust the notebook. <br />On GitHub, the HTML representation is unable to render, please try loading this page with nbviewer.org.</b></div><div class=\"sk-container\" hidden><div class=\"sk-item sk-dashed-wrapped\"><div class=\"sk-label-container\"><div class=\"sk-label sk-toggleable\"><input class=\"sk-toggleable__control sk-hidden--visually\" id=\"sk-estimator-id-4\" type=\"checkbox\" ><label for=\"sk-estimator-id-4\" class=\"sk-toggleable__label sk-toggleable__label-arrow\">Pipeline</label><div class=\"sk-toggleable__content\"><pre>Pipeline(steps=[(&#x27;tf&#x27;,\n",
       "                 TfidfVectorizer(max_features=1000,\n",
       "                                 stop_words=[&#x27;i&#x27;, &#x27;me&#x27;, &#x27;my&#x27;, &#x27;myself&#x27;, &#x27;we&#x27;,\n",
       "                                             &#x27;our&#x27;, &#x27;ours&#x27;, &#x27;ourselves&#x27;, &#x27;you&#x27;,\n",
       "                                             &quot;you&#x27;re&quot;, &quot;you&#x27;ve&quot;, &quot;you&#x27;ll&quot;,\n",
       "                                             &quot;you&#x27;d&quot;, &#x27;your&#x27;, &#x27;yours&#x27;,\n",
       "                                             &#x27;yourself&#x27;, &#x27;yourselves&#x27;, &#x27;he&#x27;,\n",
       "                                             &#x27;him&#x27;, &#x27;his&#x27;, &#x27;himself&#x27;, &#x27;she&#x27;,\n",
       "                                             &quot;she&#x27;s&quot;, &#x27;her&#x27;, &#x27;hers&#x27;, &#x27;herself&#x27;,\n",
       "                                             &#x27;it&#x27;, &quot;it&#x27;s&quot;, &#x27;it&#x27;, &#x27;itself&#x27;, ...],\n",
       "                                 token_pattern=None,\n",
       "                                 tokenizer=&lt;function my_lemmatizer at 0x7feb0a1bdb80&gt;)),\n",
       "                (&#x27;mnb&#x27;, MultinomialNB(alpha=0.5))])</pre></div></div></div><div class=\"sk-serial\"><div class=\"sk-item\"><div class=\"sk-estimator sk-toggleable\"><input class=\"sk-toggleable__control sk-hidden--visually\" id=\"sk-estimator-id-5\" type=\"checkbox\" ><label for=\"sk-estimator-id-5\" class=\"sk-toggleable__label sk-toggleable__label-arrow\">TfidfVectorizer</label><div class=\"sk-toggleable__content\"><pre>TfidfVectorizer(max_features=1000,\n",
       "                stop_words=[&#x27;i&#x27;, &#x27;me&#x27;, &#x27;my&#x27;, &#x27;myself&#x27;, &#x27;we&#x27;, &#x27;our&#x27;, &#x27;ours&#x27;,\n",
       "                            &#x27;ourselves&#x27;, &#x27;you&#x27;, &quot;you&#x27;re&quot;, &quot;you&#x27;ve&quot;, &quot;you&#x27;ll&quot;,\n",
       "                            &quot;you&#x27;d&quot;, &#x27;your&#x27;, &#x27;yours&#x27;, &#x27;yourself&#x27;, &#x27;yourselves&#x27;,\n",
       "                            &#x27;he&#x27;, &#x27;him&#x27;, &#x27;his&#x27;, &#x27;himself&#x27;, &#x27;she&#x27;, &quot;she&#x27;s&quot;,\n",
       "                            &#x27;her&#x27;, &#x27;hers&#x27;, &#x27;herself&#x27;, &#x27;it&#x27;, &quot;it&#x27;s&quot;, &#x27;it&#x27;,\n",
       "                            &#x27;itself&#x27;, ...],\n",
       "                token_pattern=None,\n",
       "                tokenizer=&lt;function my_lemmatizer at 0x7feb0a1bdb80&gt;)</pre></div></div></div><div class=\"sk-item\"><div class=\"sk-estimator sk-toggleable\"><input class=\"sk-toggleable__control sk-hidden--visually\" id=\"sk-estimator-id-6\" type=\"checkbox\" ><label for=\"sk-estimator-id-6\" class=\"sk-toggleable__label sk-toggleable__label-arrow\">MultinomialNB</label><div class=\"sk-toggleable__content\"><pre>MultinomialNB(alpha=0.5)</pre></div></div></div></div></div></div></div>"
      ],
      "text/plain": [
       "Pipeline(steps=[('tf',\n",
       "                 TfidfVectorizer(max_features=1000,\n",
       "                                 stop_words=['i', 'me', 'my', 'myself', 'we',\n",
       "                                             'our', 'ours', 'ourselves', 'you',\n",
       "                                             \"you're\", \"you've\", \"you'll\",\n",
       "                                             \"you'd\", 'your', 'yours',\n",
       "                                             'yourself', 'yourselves', 'he',\n",
       "                                             'him', 'his', 'himself', 'she',\n",
       "                                             \"she's\", 'her', 'hers', 'herself',\n",
       "                                             'it', \"it's\", 'it', 'itself', ...],\n",
       "                                 token_pattern=None,\n",
       "                                 tokenizer=<function my_lemmatizer at 0x7feb0a1bdb80>)),\n",
       "                ('mnb', MultinomialNB(alpha=0.5))])"
      ]
     },
     "execution_count": 36,
     "metadata": {},
     "output_type": "execute_result"
    }
   ],
   "source": [
    "pipe.fit(X_train, y_train)"
   ]
  },
  {
   "cell_type": "code",
   "execution_count": 37,
   "id": "edd8d55f-2bb8-4a85-a7f1-d0818682bcf0",
   "metadata": {},
   "outputs": [
    {
     "data": {
      "text/plain": [
       "(0.6645066666666667, 0.61568)"
      ]
     },
     "execution_count": 37,
     "metadata": {},
     "output_type": "execute_result"
    }
   ],
   "source": [
    "pipe.score(X_train, y_train), pipe.score(X_test, y_test)"
   ]
  },
  {
   "cell_type": "code",
   "execution_count": 38,
   "id": "d09fd770-4b58-457d-acd9-7079ca4784ab",
   "metadata": {},
   "outputs": [],
   "source": [
    "with open('fiction_pipe.pkl', 'wb') as f:\n",
    "    pickle.dump(pipe, f)"
   ]
  },
  {
   "cell_type": "markdown",
   "id": "6abd45a9-1642-4538-8ea0-3f793e27a517",
   "metadata": {},
   "source": [
    "### opening a pickled model"
   ]
  },
  {
   "cell_type": "code",
   "execution_count": 10,
   "id": "1e25d4bc-64ce-4147-bc13-a3d16366ba58",
   "metadata": {},
   "outputs": [],
   "source": [
    "fp = \"my-capstone/book_recommendation/streamlit_app/pickled_models/bio_pipe.pkl\""
   ]
  },
  {
   "cell_type": "code",
   "execution_count": 12,
   "id": "a1e8c4c1-def8-4db2-b45f-5666475e6a61",
   "metadata": {},
   "outputs": [],
   "source": [
    "with open('bio_pipe.pkl', 'rb') as f:\n",
    "    model = pickle.load(f)"
   ]
  },
  {
   "cell_type": "code",
   "execution_count": 21,
   "id": "ab57cd08-73f8-4221-a91f-e98f7ce55305",
   "metadata": {},
   "outputs": [],
   "source": [
    "import numpy as np"
   ]
  },
  {
   "cell_type": "code",
   "execution_count": 20,
   "id": "451d1459-6354-4ef7-a908-486a38a55eb0",
   "metadata": {},
   "outputs": [
    {
     "name": "stdin",
     "output_type": "stream",
     "text": [
      " anne \n"
     ]
    }
   ],
   "source": [
    "user_text = input()"
   ]
  },
  {
   "cell_type": "code",
   "execution_count": 43,
   "id": "30c9bc8b-cc1f-4ce7-a241-d2749c0dae4a",
   "metadata": {},
   "outputs": [
    {
     "name": "stdin",
     "output_type": "stream",
     "text": [
      "Enter some text please:  self love\n"
     ]
    },
    {
     "name": "stdout",
     "output_type": "stream",
     "text": [
      "You should read: ['Left to Tell: Discovering God Amidst The Rwandan Holocaust']\n"
     ]
    }
   ],
   "source": [
    "user_text = input('Enter some text please: ')\n",
    "prediction = model.predict([user_text])\n",
    "print(f'You should read: {prediction}')"
   ]
  },
  {
   "cell_type": "code",
   "execution_count": 45,
   "id": "5729f5de-0464-49c0-8b2b-b1e66b2b3105",
   "metadata": {},
   "outputs": [
    {
     "data": {
      "text/plain": [
       "It's Not About the Bike: My Journey Back to Life                             1162\n",
       "The Princess Bride                                                            980\n",
       "John Adams                                                                    785\n",
       "Confessions of an Economic Hitman                                             748\n",
       "All Creatures Great and Small                                                 553\n",
       "                                                                             ... \n",
       "THE BOY IN THE GREEN SUIT                                                       1\n",
       "The God I Love: A Lifetime of Walking with Jesus                                1\n",
       "MARY QUEEN OF SCOTS                                                             1\n",
       "Ronald Reagan: Our Fortieth President (Spirit of America: Our Presidents)       1\n",
       "Bruce Lee: The Incomparable Fighter                                             1\n",
       "Name: Title, Length: 2309, dtype: int64"
      ]
     },
     "execution_count": 45,
     "metadata": {},
     "output_type": "execute_result"
    }
   ],
   "source": [
    "bio_df['Title'].value_counts()"
   ]
  },
  {
   "cell_type": "code",
   "execution_count": null,
   "id": "092b7f88-e983-44a6-99ff-203b4330364b",
   "metadata": {},
   "outputs": [],
   "source": []
  }
 ],
 "metadata": {
  "kernelspec": {
   "display_name": "Python 3 (ipykernel)",
   "language": "python",
   "name": "python3"
  },
  "language_info": {
   "codemirror_mode": {
    "name": "ipython",
    "version": 3
   },
   "file_extension": ".py",
   "mimetype": "text/x-python",
   "name": "python",
   "nbconvert_exporter": "python",
   "pygments_lexer": "ipython3",
   "version": "3.9.13"
  }
 },
 "nbformat": 4,
 "nbformat_minor": 5
}
