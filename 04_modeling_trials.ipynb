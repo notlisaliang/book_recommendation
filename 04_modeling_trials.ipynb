{
 "cells": [
  {
   "cell_type": "code",
   "execution_count": 1,
   "id": "7aed2509-7d11-4ec7-a5dd-e4d4c5babcb2",
   "metadata": {},
   "outputs": [],
   "source": [
    "import pandas as pd\n",
    "import numpy as np\n",
    "import matplotlib.pyplot as plt\n",
    "import seaborn as sns\n",
    "\n",
    "from sklearn.feature_extraction import text\n",
    "from nltk.corpus import stopwords\n",
    "from nltk.stem import WordNetLemmatizer\n",
    "import re\n",
    "\n",
    "from sklearn.model_selection import train_test_split, cross_val_score, GridSearchCV\n",
    "from sklearn.preprocessing import StandardScaler\n",
    "\n",
    "from sklearn.pipeline import Pipeline\n",
    "from sklearn.feature_extraction.text import CountVectorizer, TfidfVectorizer\n",
    "from sklearn.linear_model import LogisticRegression\n",
    "from sklearn.ensemble import AdaBoostClassifier\n",
    "from sklearn.tree import DecisionTreeClassifier\n",
    "from sklearn.ensemble import RandomForestClassifier\n",
    "from sklearn.ensemble import BaggingClassifier\n",
    "from sklearn.ensemble import StackingClassifier\n",
    "from sklearn.svm import SVC\n",
    "\n",
    "from sklearn.metrics import recall_score, precision_score, f1_score, accuracy_score"
   ]
  },
  {
   "cell_type": "code",
   "execution_count": 2,
   "id": "1ef770cb-0e70-4618-ac38-15b80c3385c3",
   "metadata": {},
   "outputs": [],
   "source": [
    "fiction_df = pd.read_csv('./data/fiction_sample.csv')"
   ]
  },
  {
   "cell_type": "markdown",
   "id": "540b107b-b718-4349-a19e-f4a63bb3f2b1",
   "metadata": {},
   "source": [
    "### Functions"
   ]
  },
  {
   "cell_type": "code",
   "execution_count": 3,
   "id": "a4e9e072-eee6-4bf7-9762-b19cf847056d",
   "metadata": {},
   "outputs": [],
   "source": [
    "def best_params(pipeline, params, X_train, y_train):\n",
    "    gs = GridSearchCV(pipeline,\n",
    "                      param_grid = params,\n",
    "                      n_jobs=-1)\n",
    "\n",
    "    gs.fit(X_train, y_train)\n",
    "    return f'Best Score: {gs.best_score_}, Params: {gs.best_params_}'"
   ]
  },
  {
   "cell_type": "code",
   "execution_count": 4,
   "id": "d5dc235e-5b3f-4597-98f8-a797ce233b58",
   "metadata": {},
   "outputs": [],
   "source": [
    "def return_gs(pipeline, params, X_train, y_train):\n",
    "    gs = GridSearchCV(pipeline,\n",
    "                      param_grid = params,\n",
    "                      n_jobs=-1)\n",
    "    return gs"
   ]
  },
  {
   "cell_type": "code",
   "execution_count": 5,
   "id": "634f2337-f941-4017-8afa-c7375ed3c04e",
   "metadata": {},
   "outputs": [],
   "source": [
    "def scores(gs, X_train, y_train, X_test, y_test):\n",
    "    gs.fit(X_train, y_train)\n",
    "    return f'Train Score: {gs.score(X_train, y_train)}, Test Score: {gs.score(X_test, y_test)}'"
   ]
  },
  {
   "cell_type": "code",
   "execution_count": 6,
   "id": "0723855c-319b-4f3c-a004-97c8b3432add",
   "metadata": {},
   "outputs": [],
   "source": [
    "def predictions(pipeline, X_train, X_test, y_train):\n",
    "    pipeline.fit(X_train, y_train)\n",
    "    prediction = pipeline.predict(X_test)\n",
    "    \n",
    "    return prediction"
   ]
  },
  {
   "cell_type": "code",
   "execution_count": 7,
   "id": "c1ddf7ec-a9af-4f2e-bd38-ba094d8f8c66",
   "metadata": {},
   "outputs": [],
   "source": [
    "def classification_scores(model, y_test, y_pred):\n",
    "    dataframe = pd.DataFrame(columns = ['Recall', 'Precision', 'F1', 'Accuracy'])\n",
    "    \n",
    "    recall = recall_score(y_test, y_pred, average = 'weighted')\n",
    "    precision = precision_score(y_test, y_pred, average = 'weighted')\n",
    "    f1 = f1_score(y_test, y_pred, average = 'weighted')\n",
    "    accuracy = accuracy_score(y_test, y_pred)\n",
    "    \n",
    "    dataframe.loc[model] = [recall, precision, f1, accuracy]\n",
    "    \n",
    "    return dataframe"
   ]
  },
  {
   "cell_type": "markdown",
   "id": "89090767-22d7-4bc3-8266-473dda4954d6",
   "metadata": {},
   "source": [
    "## Fiction Genre"
   ]
  },
  {
   "cell_type": "markdown",
   "id": "7c6418b6-9b13-4395-b85e-cc2f87e800d8",
   "metadata": {},
   "source": [
    "### Baseline Accuracy "
   ]
  },
  {
   "cell_type": "code",
   "execution_count": 8,
   "id": "76e8afb5-7a7d-4484-9d24-49d91ed02106",
   "metadata": {},
   "outputs": [
    {
     "data": {
      "text/plain": [
       "Pride and Prejudice                                         0.03694\n",
       "Brave New World                                             0.01184\n",
       "Great Expectations                                          0.01102\n",
       "To kill a mockingbird                                       0.00634\n",
       "Alice's Adventures in Wonderland                            0.00580\n",
       "                                                             ...   \n",
       "Chocolate Dipped Death (A Candy Shop Mystery)               0.00002\n",
       "Predator: Concrete Jungle                                   0.00002\n",
       "The Gates of Damascus                                       0.00002\n",
       "His Love Saved Her                                          0.00002\n",
       "Miss Billings Treads the Boards (Signet Regency Romance)    0.00002\n",
       "Name: Title, Length: 6722, dtype: float64"
      ]
     },
     "execution_count": 8,
     "metadata": {},
     "output_type": "execute_result"
    }
   ],
   "source": [
    "fiction_df['Title'].value_counts(normalize = True)"
   ]
  },
  {
   "cell_type": "code",
   "execution_count": 9,
   "id": "18ce2711-2cda-4429-9ddf-c1b7bafd5c7d",
   "metadata": {},
   "outputs": [],
   "source": [
    "X = fiction_df['description']\n",
    "y = fiction_df['Title']"
   ]
  },
  {
   "cell_type": "code",
   "execution_count": 10,
   "id": "7f32134b-fbaa-49d5-9e43-b10e999d83e2",
   "metadata": {},
   "outputs": [],
   "source": [
    "X_train, X_test, y_train, y_test = train_test_split(X, y, random_state=42)"
   ]
  },
  {
   "cell_type": "code",
   "execution_count": 11,
   "id": "435649a2-cf14-4f4f-9ac5-a01e0e50106c",
   "metadata": {},
   "outputs": [],
   "source": [
    "def my_lemmatizer(text):\n",
    "    wnet = WordNetLemmatizer()\n",
    "    # exclude words with apostrophes and numbers\n",
    "    return [wnet.lemmatize(w) for w in text.split() if \"'\" not in w and not w.isdigit()]"
   ]
  },
  {
   "cell_type": "code",
   "execution_count": 12,
   "id": "366be187-e46e-4126-8608-3dd0da9cc982",
   "metadata": {},
   "outputs": [],
   "source": [
    "wnet = WordNetLemmatizer()\n",
    "lem_stopwords = [wnet.lemmatize(w) for w in stopwords.words('english')]\n",
    "\n",
    "contractions = ['ve', 't', \"'s'\", 'd', 'll', 'm', 're']\n",
    "lem_contractions = [wnet.lemmatize(contraction) for contraction in contractions]\n",
    "\n",
    "numbers = ['0', '1', '2', '3', '4', '5', '6', '7', '8', '9']\n",
    "lem_numbers = [wnet.lemmatize(num) for num in numbers]\n",
    "\n",
    "lem_stopwords = lem_stopwords + lem_contractions + lem_numbers"
   ]
  },
  {
   "cell_type": "markdown",
   "id": "99aef9f2-6363-49c8-8e9a-990d549833aa",
   "metadata": {},
   "source": [
    "### MultinomialNB (and hyptertuning)"
   ]
  },
  {
   "cell_type": "code",
   "execution_count": 13,
   "id": "17d74311-3201-4546-890f-e72fbbaf2eea",
   "metadata": {},
   "outputs": [],
   "source": [
    "from sklearn.naive_bayes import MultinomialNB"
   ]
  },
  {
   "cell_type": "code",
   "execution_count": 14,
   "id": "1913c227-b2de-4c6b-9acf-aa398ff9e7b2",
   "metadata": {},
   "outputs": [],
   "source": [
    "mnb_pipe = Pipeline([\n",
    "    ('tf', TfidfVectorizer(stop_words = lem_stopwords, \n",
    "                           tokenizer = my_lemmatizer,\n",
    "                           token_pattern = None,\n",
    "                           max_features = 5_000)),\n",
    "    ('mnb', MultinomialNB(alpha = 0.5))\n",
    "])"
   ]
  },
  {
   "cell_type": "code",
   "execution_count": 15,
   "id": "1256cbbf-6de1-4651-a259-c315bc39b7f9",
   "metadata": {},
   "outputs": [],
   "source": [
    "mnb_params = {\n",
    "    'tf__min_df': [0.1, 0.25, 0.5, 1.0],\n",
    "    'tf__max_df': [0.25, 0.5, 0.8, 1.0],\n",
    "    'tf__ngram_range': [(1,1), (2,2), (3,3)],\n",
    "    'mnb__alpha': [0.1, 0.25, 0.5, 1],\n",
    "    'mnb__fit_prior': [True, False]\n",
    "}"
   ]
  },
  {
   "cell_type": "code",
   "execution_count": 22,
   "id": "0392fbc4-f0ec-48d1-bfb7-e4557fe2b2ef",
   "metadata": {
    "scrolled": true,
    "tags": []
   },
   "outputs": [
    {
     "name": "stderr",
     "output_type": "stream",
     "text": [
      "/Users/lisaliang/opt/anaconda3/lib/python3.9/site-packages/sklearn/model_selection/_split.py:700: UserWarning: The least populated class in y has only 1 members, which is less than n_splits=5.\n",
      "  warnings.warn(\n",
      "/Users/lisaliang/opt/anaconda3/lib/python3.9/site-packages/sklearn/model_selection/_validation.py:378: FitFailedWarning: \n",
      "1320 fits failed out of a total of 1920.\n",
      "The score on these train-test partitions for these parameters will be set to nan.\n",
      "If these failures are not expected, you can try to debug them by setting error_score='raise'.\n",
      "\n",
      "Below are more details about the failures:\n",
      "--------------------------------------------------------------------------------\n",
      "840 fits failed with the following error:\n",
      "Traceback (most recent call last):\n",
      "  File \"/Users/lisaliang/opt/anaconda3/lib/python3.9/site-packages/sklearn/model_selection/_validation.py\", line 686, in _fit_and_score\n",
      "    estimator.fit(X_train, y_train, **fit_params)\n",
      "  File \"/Users/lisaliang/opt/anaconda3/lib/python3.9/site-packages/sklearn/pipeline.py\", line 401, in fit\n",
      "    Xt = self._fit(X, y, **fit_params_steps)\n",
      "  File \"/Users/lisaliang/opt/anaconda3/lib/python3.9/site-packages/sklearn/pipeline.py\", line 359, in _fit\n",
      "    X, fitted_transformer = fit_transform_one_cached(\n",
      "  File \"/Users/lisaliang/opt/anaconda3/lib/python3.9/site-packages/joblib/memory.py\", line 349, in __call__\n",
      "    return self.func(*args, **kwargs)\n",
      "  File \"/Users/lisaliang/opt/anaconda3/lib/python3.9/site-packages/sklearn/pipeline.py\", line 893, in _fit_transform_one\n",
      "    res = transformer.fit_transform(X, y, **fit_params)\n",
      "  File \"/Users/lisaliang/opt/anaconda3/lib/python3.9/site-packages/sklearn/feature_extraction/text.py\", line 2133, in fit_transform\n",
      "    X = super().fit_transform(raw_documents)\n",
      "  File \"/Users/lisaliang/opt/anaconda3/lib/python3.9/site-packages/sklearn/feature_extraction/text.py\", line 1401, in fit_transform\n",
      "    X, self.stop_words_ = self._limit_features(\n",
      "  File \"/Users/lisaliang/opt/anaconda3/lib/python3.9/site-packages/sklearn/feature_extraction/text.py\", line 1253, in _limit_features\n",
      "    raise ValueError(\n",
      "ValueError: After pruning, no terms remain. Try a lower min_df or a higher max_df.\n",
      "\n",
      "--------------------------------------------------------------------------------\n",
      "480 fits failed with the following error:\n",
      "Traceback (most recent call last):\n",
      "  File \"/Users/lisaliang/opt/anaconda3/lib/python3.9/site-packages/sklearn/model_selection/_validation.py\", line 686, in _fit_and_score\n",
      "    estimator.fit(X_train, y_train, **fit_params)\n",
      "  File \"/Users/lisaliang/opt/anaconda3/lib/python3.9/site-packages/sklearn/pipeline.py\", line 401, in fit\n",
      "    Xt = self._fit(X, y, **fit_params_steps)\n",
      "  File \"/Users/lisaliang/opt/anaconda3/lib/python3.9/site-packages/sklearn/pipeline.py\", line 359, in _fit\n",
      "    X, fitted_transformer = fit_transform_one_cached(\n",
      "  File \"/Users/lisaliang/opt/anaconda3/lib/python3.9/site-packages/joblib/memory.py\", line 349, in __call__\n",
      "    return self.func(*args, **kwargs)\n",
      "  File \"/Users/lisaliang/opt/anaconda3/lib/python3.9/site-packages/sklearn/pipeline.py\", line 893, in _fit_transform_one\n",
      "    res = transformer.fit_transform(X, y, **fit_params)\n",
      "  File \"/Users/lisaliang/opt/anaconda3/lib/python3.9/site-packages/sklearn/feature_extraction/text.py\", line 2133, in fit_transform\n",
      "    X = super().fit_transform(raw_documents)\n",
      "  File \"/Users/lisaliang/opt/anaconda3/lib/python3.9/site-packages/sklearn/feature_extraction/text.py\", line 1398, in fit_transform\n",
      "    raise ValueError(\"max_df corresponds to < documents than min_df\")\n",
      "ValueError: max_df corresponds to < documents than min_df\n",
      "\n",
      "  warnings.warn(some_fits_failed_message, FitFailedWarning)\n",
      "/Users/lisaliang/opt/anaconda3/lib/python3.9/site-packages/sklearn/model_selection/_search.py:952: UserWarning: One or more of the test scores are non-finite: [0.51626667 0.03730667 0.03730667        nan        nan        nan\n",
      "        nan        nan        nan        nan        nan        nan\n",
      " 0.54626667 0.03730667 0.03730667 0.03730667        nan        nan\n",
      "        nan        nan        nan        nan        nan        nan\n",
      " 0.54626667 0.03730667 0.03730667 0.03730667        nan        nan\n",
      "        nan        nan        nan        nan        nan        nan\n",
      " 0.54626667 0.03730667 0.03730667 0.03730667        nan        nan\n",
      "        nan        nan        nan        nan        nan        nan\n",
      " 0.68690667 0.02706667 0.0168            nan        nan        nan\n",
      "        nan        nan        nan        nan        nan        nan\n",
      " 0.72106667 0.02706667 0.0168     0.09432           nan        nan\n",
      "        nan        nan        nan        nan        nan        nan\n",
      " 0.72106667 0.02706667 0.0168     0.09432           nan        nan\n",
      "        nan        nan        nan        nan        nan        nan\n",
      " 0.72106667 0.02706667 0.0168     0.09432           nan        nan\n",
      "        nan        nan        nan        nan        nan        nan\n",
      " 0.47112    0.03730667 0.03730667        nan        nan        nan\n",
      "        nan        nan        nan        nan        nan        nan\n",
      " 0.50024    0.03730667 0.03730667 0.03730667        nan        nan\n",
      "        nan        nan        nan        nan        nan        nan\n",
      " 0.50024    0.03730667 0.03730667 0.03730667        nan        nan\n",
      "        nan        nan        nan        nan        nan        nan\n",
      " 0.50024    0.03730667 0.03730667 0.03730667        nan        nan\n",
      "        nan        nan        nan        nan        nan        nan\n",
      " 0.65402667 0.02746667 0.01442667        nan        nan        nan\n",
      "        nan        nan        nan        nan        nan        nan\n",
      " 0.68384    0.02746667 0.01442667 0.09154667        nan        nan\n",
      "        nan        nan        nan        nan        nan        nan\n",
      " 0.68384    0.02746667 0.01442667 0.09154667        nan        nan\n",
      "        nan        nan        nan        nan        nan        nan\n",
      " 0.68384    0.02746667 0.01442667 0.09154667        nan        nan\n",
      "        nan        nan        nan        nan        nan        nan\n",
      " 0.42456    0.03730667 0.03730667        nan        nan        nan\n",
      "        nan        nan        nan        nan        nan        nan\n",
      " 0.44778667 0.03730667 0.03730667 0.03730667        nan        nan\n",
      "        nan        nan        nan        nan        nan        nan\n",
      " 0.44778667 0.03730667 0.03730667 0.03730667        nan        nan\n",
      "        nan        nan        nan        nan        nan        nan\n",
      " 0.44778667 0.03730667 0.03730667 0.03730667        nan        nan\n",
      "        nan        nan        nan        nan        nan        nan\n",
      " 0.61237333 0.02613333 0.01512           nan        nan        nan\n",
      "        nan        nan        nan        nan        nan        nan\n",
      " 0.64293333 0.02613333 0.01512    0.08813333        nan        nan\n",
      "        nan        nan        nan        nan        nan        nan\n",
      " 0.64293333 0.02613333 0.01512    0.08813333        nan        nan\n",
      "        nan        nan        nan        nan        nan        nan\n",
      " 0.64293333 0.02613333 0.01512    0.08813333        nan        nan\n",
      "        nan        nan        nan        nan        nan        nan\n",
      " 0.37722667 0.03730667 0.03730667        nan        nan        nan\n",
      "        nan        nan        nan        nan        nan        nan\n",
      " 0.38869333 0.03730667 0.03730667 0.03730667        nan        nan\n",
      "        nan        nan        nan        nan        nan        nan\n",
      " 0.38869333 0.03730667 0.03730667 0.03730667        nan        nan\n",
      "        nan        nan        nan        nan        nan        nan\n",
      " 0.38869333 0.03730667 0.03730667 0.03730667        nan        nan\n",
      "        nan        nan        nan        nan        nan        nan\n",
      " 0.55968    0.02141333 0.01261333        nan        nan        nan\n",
      "        nan        nan        nan        nan        nan        nan\n",
      " 0.58442667 0.02141333 0.01261333 0.08122667        nan        nan\n",
      "        nan        nan        nan        nan        nan        nan\n",
      " 0.58442667 0.02141333 0.01261333 0.08122667        nan        nan\n",
      "        nan        nan        nan        nan        nan        nan\n",
      " 0.58442667 0.02141333 0.01261333 0.08122667        nan        nan\n",
      "        nan        nan        nan        nan        nan        nan]\n",
      "  warnings.warn(\n"
     ]
    },
    {
     "data": {
      "text/plain": [
       "\"Best Score: 0.7210666666666666, Params: {'mnb__alpha': 0.1, 'mnb__fit_prior': False, 'tf__max_df': 0.5, 'tf__min_df': 0.1, 'tf__ngram_range': (1, 1)}\""
      ]
     },
     "execution_count": 22,
     "metadata": {},
     "output_type": "execute_result"
    }
   ],
   "source": [
    "best_params(mnb_pipe, mnb_params, X_train, y_train)"
   ]
  },
  {
   "cell_type": "markdown",
   "id": "561044fe-cd04-408d-b228-3c75814b8d97",
   "metadata": {},
   "source": [
    "Note: The scores ran a long warning, so below is the output that it got before being cleared.\n",
    "\n",
    "\"Best Score: 0.7210666666666666, Params: {'mnb__alpha': 0.1, 'mnb__fit_prior': False, 'tf__max_df': 0.5, 'tf__min_df': 0.1, 'tf__ngram_range': (1, 1)}\""
   ]
  },
  {
   "cell_type": "code",
   "execution_count": 23,
   "id": "2b03bfd4-ca55-4f06-84c5-99f2db948f3f",
   "metadata": {},
   "outputs": [],
   "source": [
    "mnb_gs = return_gs(mnb_pipe, mnb_params, X_train, y_train)"
   ]
  },
  {
   "cell_type": "code",
   "execution_count": 24,
   "id": "17020be4-e9c4-4073-b5ab-3f4adcc81ec1",
   "metadata": {
    "scrolled": true,
    "tags": []
   },
   "outputs": [
    {
     "name": "stderr",
     "output_type": "stream",
     "text": [
      "/Users/lisaliang/opt/anaconda3/lib/python3.9/site-packages/sklearn/model_selection/_split.py:700: UserWarning: The least populated class in y has only 1 members, which is less than n_splits=5.\n",
      "  warnings.warn(\n",
      "/Users/lisaliang/opt/anaconda3/lib/python3.9/site-packages/sklearn/model_selection/_validation.py:378: FitFailedWarning: \n",
      "1320 fits failed out of a total of 1920.\n",
      "The score on these train-test partitions for these parameters will be set to nan.\n",
      "If these failures are not expected, you can try to debug them by setting error_score='raise'.\n",
      "\n",
      "Below are more details about the failures:\n",
      "--------------------------------------------------------------------------------\n",
      "840 fits failed with the following error:\n",
      "Traceback (most recent call last):\n",
      "  File \"/Users/lisaliang/opt/anaconda3/lib/python3.9/site-packages/sklearn/model_selection/_validation.py\", line 686, in _fit_and_score\n",
      "    estimator.fit(X_train, y_train, **fit_params)\n",
      "  File \"/Users/lisaliang/opt/anaconda3/lib/python3.9/site-packages/sklearn/pipeline.py\", line 401, in fit\n",
      "    Xt = self._fit(X, y, **fit_params_steps)\n",
      "  File \"/Users/lisaliang/opt/anaconda3/lib/python3.9/site-packages/sklearn/pipeline.py\", line 359, in _fit\n",
      "    X, fitted_transformer = fit_transform_one_cached(\n",
      "  File \"/Users/lisaliang/opt/anaconda3/lib/python3.9/site-packages/joblib/memory.py\", line 349, in __call__\n",
      "    return self.func(*args, **kwargs)\n",
      "  File \"/Users/lisaliang/opt/anaconda3/lib/python3.9/site-packages/sklearn/pipeline.py\", line 893, in _fit_transform_one\n",
      "    res = transformer.fit_transform(X, y, **fit_params)\n",
      "  File \"/Users/lisaliang/opt/anaconda3/lib/python3.9/site-packages/sklearn/feature_extraction/text.py\", line 2133, in fit_transform\n",
      "    X = super().fit_transform(raw_documents)\n",
      "  File \"/Users/lisaliang/opt/anaconda3/lib/python3.9/site-packages/sklearn/feature_extraction/text.py\", line 1401, in fit_transform\n",
      "    X, self.stop_words_ = self._limit_features(\n",
      "  File \"/Users/lisaliang/opt/anaconda3/lib/python3.9/site-packages/sklearn/feature_extraction/text.py\", line 1253, in _limit_features\n",
      "    raise ValueError(\n",
      "ValueError: After pruning, no terms remain. Try a lower min_df or a higher max_df.\n",
      "\n",
      "--------------------------------------------------------------------------------\n",
      "480 fits failed with the following error:\n",
      "Traceback (most recent call last):\n",
      "  File \"/Users/lisaliang/opt/anaconda3/lib/python3.9/site-packages/sklearn/model_selection/_validation.py\", line 686, in _fit_and_score\n",
      "    estimator.fit(X_train, y_train, **fit_params)\n",
      "  File \"/Users/lisaliang/opt/anaconda3/lib/python3.9/site-packages/sklearn/pipeline.py\", line 401, in fit\n",
      "    Xt = self._fit(X, y, **fit_params_steps)\n",
      "  File \"/Users/lisaliang/opt/anaconda3/lib/python3.9/site-packages/sklearn/pipeline.py\", line 359, in _fit\n",
      "    X, fitted_transformer = fit_transform_one_cached(\n",
      "  File \"/Users/lisaliang/opt/anaconda3/lib/python3.9/site-packages/joblib/memory.py\", line 349, in __call__\n",
      "    return self.func(*args, **kwargs)\n",
      "  File \"/Users/lisaliang/opt/anaconda3/lib/python3.9/site-packages/sklearn/pipeline.py\", line 893, in _fit_transform_one\n",
      "    res = transformer.fit_transform(X, y, **fit_params)\n",
      "  File \"/Users/lisaliang/opt/anaconda3/lib/python3.9/site-packages/sklearn/feature_extraction/text.py\", line 2133, in fit_transform\n",
      "    X = super().fit_transform(raw_documents)\n",
      "  File \"/Users/lisaliang/opt/anaconda3/lib/python3.9/site-packages/sklearn/feature_extraction/text.py\", line 1398, in fit_transform\n",
      "    raise ValueError(\"max_df corresponds to < documents than min_df\")\n",
      "ValueError: max_df corresponds to < documents than min_df\n",
      "\n",
      "  warnings.warn(some_fits_failed_message, FitFailedWarning)\n",
      "/Users/lisaliang/opt/anaconda3/lib/python3.9/site-packages/sklearn/model_selection/_search.py:952: UserWarning: One or more of the test scores are non-finite: [0.51626667 0.03730667 0.03730667        nan        nan        nan\n",
      "        nan        nan        nan        nan        nan        nan\n",
      " 0.54626667 0.03730667 0.03730667 0.03730667        nan        nan\n",
      "        nan        nan        nan        nan        nan        nan\n",
      " 0.54626667 0.03730667 0.03730667 0.03730667        nan        nan\n",
      "        nan        nan        nan        nan        nan        nan\n",
      " 0.54626667 0.03730667 0.03730667 0.03730667        nan        nan\n",
      "        nan        nan        nan        nan        nan        nan\n",
      " 0.68690667 0.02706667 0.0168            nan        nan        nan\n",
      "        nan        nan        nan        nan        nan        nan\n",
      " 0.72106667 0.02706667 0.0168     0.09432           nan        nan\n",
      "        nan        nan        nan        nan        nan        nan\n",
      " 0.72106667 0.02706667 0.0168     0.09432           nan        nan\n",
      "        nan        nan        nan        nan        nan        nan\n",
      " 0.72106667 0.02706667 0.0168     0.09432           nan        nan\n",
      "        nan        nan        nan        nan        nan        nan\n",
      " 0.47112    0.03730667 0.03730667        nan        nan        nan\n",
      "        nan        nan        nan        nan        nan        nan\n",
      " 0.50024    0.03730667 0.03730667 0.03730667        nan        nan\n",
      "        nan        nan        nan        nan        nan        nan\n",
      " 0.50024    0.03730667 0.03730667 0.03730667        nan        nan\n",
      "        nan        nan        nan        nan        nan        nan\n",
      " 0.50024    0.03730667 0.03730667 0.03730667        nan        nan\n",
      "        nan        nan        nan        nan        nan        nan\n",
      " 0.65402667 0.02746667 0.01442667        nan        nan        nan\n",
      "        nan        nan        nan        nan        nan        nan\n",
      " 0.68384    0.02746667 0.01442667 0.09154667        nan        nan\n",
      "        nan        nan        nan        nan        nan        nan\n",
      " 0.68384    0.02746667 0.01442667 0.09154667        nan        nan\n",
      "        nan        nan        nan        nan        nan        nan\n",
      " 0.68384    0.02746667 0.01442667 0.09154667        nan        nan\n",
      "        nan        nan        nan        nan        nan        nan\n",
      " 0.42456    0.03730667 0.03730667        nan        nan        nan\n",
      "        nan        nan        nan        nan        nan        nan\n",
      " 0.44778667 0.03730667 0.03730667 0.03730667        nan        nan\n",
      "        nan        nan        nan        nan        nan        nan\n",
      " 0.44778667 0.03730667 0.03730667 0.03730667        nan        nan\n",
      "        nan        nan        nan        nan        nan        nan\n",
      " 0.44778667 0.03730667 0.03730667 0.03730667        nan        nan\n",
      "        nan        nan        nan        nan        nan        nan\n",
      " 0.61237333 0.02613333 0.01512           nan        nan        nan\n",
      "        nan        nan        nan        nan        nan        nan\n",
      " 0.64293333 0.02613333 0.01512    0.08813333        nan        nan\n",
      "        nan        nan        nan        nan        nan        nan\n",
      " 0.64293333 0.02613333 0.01512    0.08813333        nan        nan\n",
      "        nan        nan        nan        nan        nan        nan\n",
      " 0.64293333 0.02613333 0.01512    0.08813333        nan        nan\n",
      "        nan        nan        nan        nan        nan        nan\n",
      " 0.37722667 0.03730667 0.03730667        nan        nan        nan\n",
      "        nan        nan        nan        nan        nan        nan\n",
      " 0.38869333 0.03730667 0.03730667 0.03730667        nan        nan\n",
      "        nan        nan        nan        nan        nan        nan\n",
      " 0.38869333 0.03730667 0.03730667 0.03730667        nan        nan\n",
      "        nan        nan        nan        nan        nan        nan\n",
      " 0.38869333 0.03730667 0.03730667 0.03730667        nan        nan\n",
      "        nan        nan        nan        nan        nan        nan\n",
      " 0.55968    0.02141333 0.01261333        nan        nan        nan\n",
      "        nan        nan        nan        nan        nan        nan\n",
      " 0.58442667 0.02141333 0.01261333 0.08122667        nan        nan\n",
      "        nan        nan        nan        nan        nan        nan\n",
      " 0.58442667 0.02141333 0.01261333 0.08122667        nan        nan\n",
      "        nan        nan        nan        nan        nan        nan\n",
      " 0.58442667 0.02141333 0.01261333 0.08122667        nan        nan\n",
      "        nan        nan        nan        nan        nan        nan]\n",
      "  warnings.warn(\n"
     ]
    },
    {
     "data": {
      "text/plain": [
       "'Train Score: 0.7585866666666666, Test Score: 0.70728'"
      ]
     },
     "execution_count": 24,
     "metadata": {},
     "output_type": "execute_result"
    }
   ],
   "source": [
    "scores(mnb_gs, X_train, y_train, X_test, y_test)"
   ]
  },
  {
   "cell_type": "markdown",
   "id": "6b6a6eb2-44b8-4bf5-8393-81cf5e1bc594",
   "metadata": {},
   "source": [
    "Note: The scores ran a long warning, so below is the output that it got before being cleared.\n",
    "\n",
    "'Train Score: 0.7585866666666666, Test Score: 0.70728'"
   ]
  },
  {
   "cell_type": "code",
   "execution_count": 25,
   "id": "b0d58538-943b-4a9c-96ea-96d172c5a665",
   "metadata": {},
   "outputs": [],
   "source": [
    "mnb_pred = predictions(mnb_pipe, X_train, X_test, y_train)"
   ]
  },
  {
   "cell_type": "code",
   "execution_count": 26,
   "id": "8794fa8f-1ac4-4b17-abc1-2a6823c7e404",
   "metadata": {},
   "outputs": [
    {
     "name": "stderr",
     "output_type": "stream",
     "text": [
      "/Users/lisaliang/opt/anaconda3/lib/python3.9/site-packages/sklearn/metrics/_classification.py:1344: UndefinedMetricWarning: Recall is ill-defined and being set to 0.0 in labels with no true samples. Use `zero_division` parameter to control this behavior.\n",
      "  _warn_prf(average, modifier, msg_start, len(result))\n",
      "/Users/lisaliang/opt/anaconda3/lib/python3.9/site-packages/sklearn/metrics/_classification.py:1344: UndefinedMetricWarning: Precision is ill-defined and being set to 0.0 in labels with no predicted samples. Use `zero_division` parameter to control this behavior.\n",
      "  _warn_prf(average, modifier, msg_start, len(result))\n"
     ]
    },
    {
     "data": {
      "text/html": [
       "<div>\n",
       "<style scoped>\n",
       "    .dataframe tbody tr th:only-of-type {\n",
       "        vertical-align: middle;\n",
       "    }\n",
       "\n",
       "    .dataframe tbody tr th {\n",
       "        vertical-align: top;\n",
       "    }\n",
       "\n",
       "    .dataframe thead th {\n",
       "        text-align: right;\n",
       "    }\n",
       "</style>\n",
       "<table border=\"1\" class=\"dataframe\">\n",
       "  <thead>\n",
       "    <tr style=\"text-align: right;\">\n",
       "      <th></th>\n",
       "      <th>Recall</th>\n",
       "      <th>Precision</th>\n",
       "      <th>F1</th>\n",
       "      <th>Accuracy</th>\n",
       "    </tr>\n",
       "  </thead>\n",
       "  <tbody>\n",
       "    <tr>\n",
       "      <th>Multinomial Naive Bayes</th>\n",
       "      <td>0.71232</td>\n",
       "      <td>0.580423</td>\n",
       "      <td>0.625477</td>\n",
       "      <td>0.71232</td>\n",
       "    </tr>\n",
       "  </tbody>\n",
       "</table>\n",
       "</div>"
      ],
      "text/plain": [
       "                          Recall  Precision        F1  Accuracy\n",
       "Multinomial Naive Bayes  0.71232   0.580423  0.625477   0.71232"
      ]
     },
     "execution_count": 26,
     "metadata": {},
     "output_type": "execute_result"
    }
   ],
   "source": [
    "classification_scores('Multinomial Naive Bayes', y_test, mnb_pred)"
   ]
  },
  {
   "cell_type": "markdown",
   "id": "f32edc60-8446-42f7-8fdd-8c9e9bf4ed13",
   "metadata": {},
   "source": [
    "### Random Forest Classification (and hypertuning)"
   ]
  },
  {
   "cell_type": "code",
   "execution_count": 13,
   "id": "71a1bd39-f29a-4854-9c73-d1d7c40fc77e",
   "metadata": {},
   "outputs": [],
   "source": [
    "rfc_pipe = Pipeline([\n",
    "    ('tf', TfidfVectorizer(stop_words = lem_stopwords, \n",
    "                           tokenizer = my_lemmatizer,\n",
    "                           token_pattern = None,\n",
    "                           max_features = 1_000)),\n",
    "    ('rfc', RandomForestClassifier(max_features = 1_000))\n",
    "])"
   ]
  },
  {
   "cell_type": "code",
   "execution_count": 15,
   "id": "c8c223dc-c80b-43e3-a8ab-e03048b0e87f",
   "metadata": {},
   "outputs": [],
   "source": [
    "rfc_params = {\n",
    "    'tf__min_df': [0.05, 0.1],\n",
    "    'tf__max_df': [0.5],\n",
    "    'tf__ngram_range': [(1,1)],\n",
    "    'rfc__n_estimators': [100, 200, 300],\n",
    "    'rfc__max_depth': [None, 5, 10, 20]\n",
    "}"
   ]
  },
  {
   "cell_type": "code",
   "execution_count": null,
   "id": "b96e8795-5649-4715-93cf-ea2aa6be2539",
   "metadata": {
    "scrolled": true,
    "tags": []
   },
   "outputs": [
    {
     "name": "stderr",
     "output_type": "stream",
     "text": [
      "/Users/lisaliang/opt/anaconda3/lib/python3.9/site-packages/sklearn/model_selection/_split.py:700: UserWarning: The least populated class in y has only 1 members, which is less than n_splits=5.\n",
      "  warnings.warn(\n"
     ]
    }
   ],
   "source": [
    "best_params(rfc_pipe, rfc_params, X_train, y_train)"
   ]
  },
  {
   "cell_type": "code",
   "execution_count": null,
   "id": "35bc86b2-04ca-474e-9b6d-8b5310ad608e",
   "metadata": {},
   "outputs": [],
   "source": [
    "rfc_gs = return_gs(rfc_pipe, rfc_params, X_train, y_train)"
   ]
  },
  {
   "cell_type": "code",
   "execution_count": null,
   "id": "fd00ec3b-b444-433f-b87e-96304d8e1771",
   "metadata": {},
   "outputs": [],
   "source": [
    "scores(rfc_gs, X_train, y_train, X_test, y_test)"
   ]
  },
  {
   "cell_type": "code",
   "execution_count": null,
   "id": "fa33ce63-b422-4b16-8832-7cc56744f6db",
   "metadata": {},
   "outputs": [],
   "source": [
    "rfc_pred = predictions(rfc_pipe, X_train, X_test, y_train)"
   ]
  },
  {
   "cell_type": "code",
   "execution_count": null,
   "id": "4ec744f4-965d-4064-aa89-30e376eedc15",
   "metadata": {},
   "outputs": [],
   "source": [
    "classification_scores('Random Forest Classifier', y_test, rfc_pred)"
   ]
  },
  {
   "cell_type": "code",
   "execution_count": null,
   "id": "a7a196ec-d3de-40fb-b6ec-5687d0b4d0e7",
   "metadata": {},
   "outputs": [],
   "source": []
  },
  {
   "cell_type": "markdown",
   "id": "b21644bb-3641-4abd-8669-288af4ae446f",
   "metadata": {},
   "source": [
    "### Logistic Regression"
   ]
  },
  {
   "cell_type": "code",
   "execution_count": 18,
   "id": "01e68ca8-1391-4233-bbdc-073f45bb3381",
   "metadata": {},
   "outputs": [],
   "source": [
    "lr_pipe = Pipeline([\n",
    "    ('tf', TfidfVectorizer(stop_words = lem_stopwords, \n",
    "                           tokenizer = my_lemmatizer,\n",
    "                           token_pattern = None,\n",
    "                           max_features = 1_000)),\n",
    "    ('lr', LogisticRegression(solver = 'saga'))\n",
    "])"
   ]
  },
  {
   "cell_type": "code",
   "execution_count": 19,
   "id": "dc66f019-4402-43a1-836b-bb5fdad717b4",
   "metadata": {},
   "outputs": [],
   "source": [
    "lr_params = {\n",
    "    'tf__min_df': [0.05, 0.1, 0.25, 0.5],\n",
    "    'tf__max_df': [0.25, 0.5, 0.8],\n",
    "    'tf__ngram_range': [(1,1), (2,2), (3,3)],\n",
    "    'lr__penalty': ['l1', 'l2', 'elasticnet', None],\n",
    "    'lr__C': [0.05, 1.0, 10],\n",
    "    'lr__class_weight': [None, 'balanced']\n",
    "}"
   ]
  },
  {
   "cell_type": "code",
   "execution_count": null,
   "id": "63d4ab3f-825a-4c2a-afa1-949245a01179",
   "metadata": {},
   "outputs": [],
   "source": [
    "best_params(lr_pipe, lr_params, X_train, y_train)"
   ]
  },
  {
   "cell_type": "code",
   "execution_count": null,
   "id": "ec6cafb2-3008-451d-b60c-433229bff4b6",
   "metadata": {},
   "outputs": [],
   "source": [
    "lr_gs = return_gs(lr_pipe, lr_params, X_train, y_train)"
   ]
  },
  {
   "cell_type": "code",
   "execution_count": null,
   "id": "a6992d34-db6f-431b-b05e-bde84b14347d",
   "metadata": {},
   "outputs": [],
   "source": [
    "scores(lr_gs, X_train, y_train, X_test, y_test)"
   ]
  },
  {
   "cell_type": "code",
   "execution_count": null,
   "id": "e575c413-a711-4eff-9d48-6d633e44e063",
   "metadata": {},
   "outputs": [],
   "source": [
    "lr_pred = predictions(lr_pipe, X_train, X_test, y_train)"
   ]
  },
  {
   "cell_type": "code",
   "execution_count": null,
   "id": "b1a8ce93-f91d-423d-83b0-fa86acc41cc0",
   "metadata": {},
   "outputs": [],
   "source": [
    "classification_scores('Logistic Regression', y_test, lr_pred)"
   ]
  },
  {
   "cell_type": "markdown",
   "id": "64892872-f9a2-432e-98e2-6111a99130d7",
   "metadata": {},
   "source": [
    "### Support Vector"
   ]
  },
  {
   "cell_type": "code",
   "execution_count": null,
   "id": "08b13add-132a-4250-adb5-453eb6cb9fb6",
   "metadata": {},
   "outputs": [],
   "source": [
    "# lol you can try this if your computer has capacity, but it crashed my computer EVERY SINGLE TIMe"
   ]
  },
  {
   "cell_type": "code",
   "execution_count": 35,
   "id": "00ab7aa5-3881-41bc-bfbd-2eabd773566b",
   "metadata": {},
   "outputs": [],
   "source": [
    "sv_pipe = Pipeline([\n",
    "    ('tf', TfidfVectorizer(stop_words = lem_stopwords, \n",
    "                           tokenizer = my_lemmatizer,\n",
    "                           token_pattern = None,\n",
    "                           max_features = 1_000)),\n",
    "    ('sv', SVC())\n",
    "])"
   ]
  },
  {
   "cell_type": "code",
   "execution_count": 36,
   "id": "6a60c2f8-00ae-49cb-95f0-d181ba9c565f",
   "metadata": {},
   "outputs": [],
   "source": [
    "sv_params = {\n",
    "    'tf__min_df': [0.05, 0.1, 0.25, 0.5],\n",
    "    'tf__max_df': [0.25, 0.5, 0.8],\n",
    "    'tf__ngram_range': [(1,1), (2,2), (3,3)],\n",
    "    'sv__C': [0.5, 1, 10],\n",
    "    'sv__kernel': ['linear', 'poly', 'rbf'],\n",
    "    'sv__class_weight': [None, 'balanced']\n",
    "}"
   ]
  },
  {
   "cell_type": "code",
   "execution_count": null,
   "id": "74810f46-2d14-4791-a0db-4da49e4587b6",
   "metadata": {
    "scrolled": true,
    "tags": []
   },
   "outputs": [
    {
     "name": "stderr",
     "output_type": "stream",
     "text": [
      "/Users/lisaliang/opt/anaconda3/lib/python3.9/site-packages/sklearn/model_selection/_split.py:700: UserWarning: The least populated class in y has only 1 members, which is less than n_splits=5.\n",
      "  warnings.warn(\n"
     ]
    }
   ],
   "source": [
    "best_params(sv_pipe, sv_params, X_train, y_train)"
   ]
  },
  {
   "cell_type": "code",
   "execution_count": null,
   "id": "84da9f8b-0d5e-4b3b-a43d-21b475250bd1",
   "metadata": {},
   "outputs": [],
   "source": [
    "sv_gs = return_gs(sv_pipe, sv_params, X_train, y_train)"
   ]
  },
  {
   "cell_type": "code",
   "execution_count": null,
   "id": "153c6cf0-7028-4f26-8cbb-7e374c7fe59f",
   "metadata": {},
   "outputs": [],
   "source": [
    "scores(sv_gs, X_train, y_train, X_test, y_test)"
   ]
  },
  {
   "cell_type": "code",
   "execution_count": null,
   "id": "4d18e50a-c9b8-4f28-9be2-0a41c7fbd1b1",
   "metadata": {},
   "outputs": [],
   "source": [
    "sv_pred = predictions(sv_pipe, X_train, X_test, y_train)"
   ]
  },
  {
   "cell_type": "code",
   "execution_count": null,
   "id": "b13c20a3-37e3-44bc-bbc6-b6496f596973",
   "metadata": {},
   "outputs": [],
   "source": [
    "classification_scores('Support Vector', y_test, sv_pred)"
   ]
  },
  {
   "cell_type": "markdown",
   "id": "a46a3015-5b01-41ad-87eb-f2a90813462e",
   "metadata": {},
   "source": [
    "### DataFrame to Review"
   ]
  },
  {
   "cell_type": "code",
   "execution_count": 30,
   "id": "64729743-493a-4c1c-b7bc-eb119bea04c1",
   "metadata": {},
   "outputs": [
    {
     "name": "stderr",
     "output_type": "stream",
     "text": [
      "/Users/lisaliang/opt/anaconda3/lib/python3.9/site-packages/sklearn/metrics/_classification.py:1344: UndefinedMetricWarning: Recall is ill-defined and being set to 0.0 in labels with no true samples. Use `zero_division` parameter to control this behavior.\n",
      "  _warn_prf(average, modifier, msg_start, len(result))\n",
      "/Users/lisaliang/opt/anaconda3/lib/python3.9/site-packages/sklearn/metrics/_classification.py:1344: UndefinedMetricWarning: Precision is ill-defined and being set to 0.0 in labels with no predicted samples. Use `zero_division` parameter to control this behavior.\n",
      "  _warn_prf(average, modifier, msg_start, len(result))\n"
     ]
    }
   ],
   "source": [
    "table = classification_scores('Multinomial Naive Bayes', y_test, mnb_pred)"
   ]
  },
  {
   "cell_type": "code",
   "execution_count": null,
   "id": "c3ca3d65-98cd-4d9a-b674-e5c4bbf4e020",
   "metadata": {},
   "outputs": [],
   "source": [
    "table = pd.concat([table, classification_scores('Random Forest Classifier', y_test, rfc_pred)])"
   ]
  },
  {
   "cell_type": "code",
   "execution_count": null,
   "id": "fe967d02-4757-4850-8744-c2232d63adfc",
   "metadata": {},
   "outputs": [],
   "source": [
    "table = pd.concat([table, classification_scores('Logistic Regression', y_test, lr_pred)])"
   ]
  },
  {
   "cell_type": "code",
   "execution_count": null,
   "id": "c17fa489-f869-4c45-8692-ebf847226b72",
   "metadata": {},
   "outputs": [],
   "source": [
    "table = pd.concat([table, classification_scores('Support Vector', y_test, sv_pred)])"
   ]
  },
  {
   "cell_type": "code",
   "execution_count": null,
   "id": "9618d1a8-2c40-4256-a305-f9baa0969c3e",
   "metadata": {},
   "outputs": [],
   "source": []
  },
  {
   "cell_type": "code",
   "execution_count": 31,
   "id": "44b76e10-25bc-4e93-997d-4943a0b6be34",
   "metadata": {},
   "outputs": [
    {
     "data": {
      "text/html": [
       "<div>\n",
       "<style scoped>\n",
       "    .dataframe tbody tr th:only-of-type {\n",
       "        vertical-align: middle;\n",
       "    }\n",
       "\n",
       "    .dataframe tbody tr th {\n",
       "        vertical-align: top;\n",
       "    }\n",
       "\n",
       "    .dataframe thead th {\n",
       "        text-align: right;\n",
       "    }\n",
       "</style>\n",
       "<table border=\"1\" class=\"dataframe\">\n",
       "  <thead>\n",
       "    <tr style=\"text-align: right;\">\n",
       "      <th></th>\n",
       "      <th>Recall</th>\n",
       "      <th>Precision</th>\n",
       "      <th>F1</th>\n",
       "      <th>Accuracy</th>\n",
       "    </tr>\n",
       "  </thead>\n",
       "  <tbody>\n",
       "    <tr>\n",
       "      <th>Multinomial Naive Bayes</th>\n",
       "      <td>0.71232</td>\n",
       "      <td>0.580423</td>\n",
       "      <td>0.625477</td>\n",
       "      <td>0.71232</td>\n",
       "    </tr>\n",
       "  </tbody>\n",
       "</table>\n",
       "</div>"
      ],
      "text/plain": [
       "                          Recall  Precision        F1  Accuracy\n",
       "Multinomial Naive Bayes  0.71232   0.580423  0.625477   0.71232"
      ]
     },
     "execution_count": 31,
     "metadata": {},
     "output_type": "execute_result"
    }
   ],
   "source": [
    "table"
   ]
  },
  {
   "cell_type": "code",
   "execution_count": null,
   "id": "92810ef4-bf80-48ce-9ae5-4b175bc83e91",
   "metadata": {},
   "outputs": [],
   "source": [
    "table"
   ]
  },
  {
   "cell_type": "code",
   "execution_count": null,
   "id": "15f656fe-6b6f-4b27-b066-93ad0a4df90e",
   "metadata": {},
   "outputs": [],
   "source": []
  }
 ],
 "metadata": {
  "kernelspec": {
   "display_name": "Python 3 (ipykernel)",
   "language": "python",
   "name": "python3"
  },
  "language_info": {
   "codemirror_mode": {
    "name": "ipython",
    "version": 3
   },
   "file_extension": ".py",
   "mimetype": "text/x-python",
   "name": "python",
   "nbconvert_exporter": "python",
   "pygments_lexer": "ipython3",
   "version": "3.9.13"
  }
 },
 "nbformat": 4,
 "nbformat_minor": 5
}
