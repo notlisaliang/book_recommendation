{
 "cells": [
  {
   "cell_type": "markdown",
   "id": "8ce70a45-1592-46a5-ba77-fe5dba9a7cbc",
   "metadata": {},
   "source": [
    "## Imports"
   ]
  },
  {
   "cell_type": "code",
   "execution_count": 1,
   "id": "d7bf7d12-ca1d-4f8e-ac3f-b8f7b3cee6e3",
   "metadata": {},
   "outputs": [],
   "source": [
    "import pandas as pd\n",
    "import numpy as np\n",
    "import matplotlib.pyplot as plt\n",
    "import seaborn as sns\n",
    "\n",
    "from sklearn.feature_extraction.text import CountVectorizer\n",
    "from sklearn.feature_extraction import text\n",
    "from nltk.corpus import stopwords\n",
    "from nltk.stem import WordNetLemmatizer\n",
    "from nltk.tokenize import word_tokenize\n",
    "from nltk.sentiment.vader import SentimentIntensityAnalyzer\n",
    "\n",
    "import re"
   ]
  },
  {
   "cell_type": "code",
   "execution_count": 2,
   "id": "f11f46e9-19ae-44fd-bf90-a59ca54039ad",
   "metadata": {},
   "outputs": [],
   "source": [
    "np.random.seed(42)"
   ]
  },
  {
   "cell_type": "markdown",
   "id": "ae671c04-8ad8-4e1a-a4bf-d1ab801cd76b",
   "metadata": {},
   "source": [
    "## Reading Datasets"
   ]
  },
  {
   "cell_type": "code",
   "execution_count": 3,
   "id": "547205a5-ec00-472c-b693-9042a76fafee",
   "metadata": {},
   "outputs": [
    {
     "data": {
      "text/html": [
       "<div>\n",
       "<style scoped>\n",
       "    .dataframe tbody tr th:only-of-type {\n",
       "        vertical-align: middle;\n",
       "    }\n",
       "\n",
       "    .dataframe tbody tr th {\n",
       "        vertical-align: top;\n",
       "    }\n",
       "\n",
       "    .dataframe thead th {\n",
       "        text-align: right;\n",
       "    }\n",
       "</style>\n",
       "<table border=\"1\" class=\"dataframe\">\n",
       "  <thead>\n",
       "    <tr style=\"text-align: right;\">\n",
       "      <th></th>\n",
       "      <th>Title</th>\n",
       "      <th>profileName</th>\n",
       "      <th>review/score</th>\n",
       "      <th>review/summary</th>\n",
       "      <th>review/text</th>\n",
       "      <th>description</th>\n",
       "      <th>authors</th>\n",
       "      <th>image</th>\n",
       "      <th>categories</th>\n",
       "      <th>ratingsCount</th>\n",
       "    </tr>\n",
       "  </thead>\n",
       "  <tbody>\n",
       "    <tr>\n",
       "      <th>0</th>\n",
       "      <td>Younger</td>\n",
       "      <td>Shon</td>\n",
       "      <td>4.0</td>\n",
       "      <td>Better than expected</td>\n",
       "      <td>I starting reading this book while waiting for...</td>\n",
       "      <td>In the hotly anticipated sequel to the beloved...</td>\n",
       "      <td>Pamela Redmond</td>\n",
       "      <td>http://books.google.com/books/content?id=Ohq8D...</td>\n",
       "      <td>Fiction</td>\n",
       "      <td>2.0</td>\n",
       "    </tr>\n",
       "    <tr>\n",
       "      <th>1</th>\n",
       "      <td>Brave New World</td>\n",
       "      <td>Jon</td>\n",
       "      <td>5.0</td>\n",
       "      <td>Great in its own way</td>\n",
       "      <td>I feel that 1984 and B.N.W. can be compared as...</td>\n",
       "      <td>Brave New World predicts - with eerie clarity ...</td>\n",
       "      <td>Aldous Huxley</td>\n",
       "      <td>http://books.google.com/books/content?id=kKh5D...</td>\n",
       "      <td>Fiction</td>\n",
       "      <td>2713.0</td>\n",
       "    </tr>\n",
       "  </tbody>\n",
       "</table>\n",
       "</div>"
      ],
      "text/plain": [
       "             Title profileName  review/score        review/summary  \\\n",
       "0          Younger        Shon           4.0  Better than expected   \n",
       "1  Brave New World         Jon           5.0  Great in its own way   \n",
       "\n",
       "                                         review/text  \\\n",
       "0  I starting reading this book while waiting for...   \n",
       "1  I feel that 1984 and B.N.W. can be compared as...   \n",
       "\n",
       "                                         description         authors  \\\n",
       "0  In the hotly anticipated sequel to the beloved...  Pamela Redmond   \n",
       "1  Brave New World predicts - with eerie clarity ...   Aldous Huxley   \n",
       "\n",
       "                                               image categories  ratingsCount  \n",
       "0  http://books.google.com/books/content?id=Ohq8D...    Fiction           2.0  \n",
       "1  http://books.google.com/books/content?id=kKh5D...    Fiction        2713.0  "
      ]
     },
     "execution_count": 3,
     "metadata": {},
     "output_type": "execute_result"
    }
   ],
   "source": [
    "overall_df = pd.read_csv('./data/overall_sample.csv')\n",
    "overall_df.head(2)"
   ]
  },
  {
   "cell_type": "code",
   "execution_count": 4,
   "id": "c0259b90-2edc-45b8-9e1e-c3ca710ccbfa",
   "metadata": {},
   "outputs": [
    {
     "data": {
      "text/html": [
       "<div>\n",
       "<style scoped>\n",
       "    .dataframe tbody tr th:only-of-type {\n",
       "        vertical-align: middle;\n",
       "    }\n",
       "\n",
       "    .dataframe tbody tr th {\n",
       "        vertical-align: top;\n",
       "    }\n",
       "\n",
       "    .dataframe thead th {\n",
       "        text-align: right;\n",
       "    }\n",
       "</style>\n",
       "<table border=\"1\" class=\"dataframe\">\n",
       "  <thead>\n",
       "    <tr style=\"text-align: right;\">\n",
       "      <th></th>\n",
       "      <th>Title</th>\n",
       "      <th>profileName</th>\n",
       "      <th>review/score</th>\n",
       "      <th>review/summary</th>\n",
       "      <th>review/text</th>\n",
       "      <th>description</th>\n",
       "      <th>authors</th>\n",
       "      <th>image</th>\n",
       "      <th>categories</th>\n",
       "      <th>ratingsCount</th>\n",
       "    </tr>\n",
       "  </thead>\n",
       "  <tbody>\n",
       "    <tr>\n",
       "      <th>0</th>\n",
       "      <td>Bridget Jones: The Edge of Reason</td>\n",
       "      <td>C. Prasojo</td>\n",
       "      <td>4.0</td>\n",
       "      <td>Fun to read</td>\n",
       "      <td>This book is a nice diary about Bridget Jones ...</td>\n",
       "      <td>With another devastatingly hilarious, ridiculo...</td>\n",
       "      <td>Helen Fielding</td>\n",
       "      <td>http://books.google.com/books/content?id=dYONd...</td>\n",
       "      <td>Fiction</td>\n",
       "      <td>2088.0</td>\n",
       "    </tr>\n",
       "    <tr>\n",
       "      <th>1</th>\n",
       "      <td>To Kill A Mockingbird</td>\n",
       "      <td>Elissa Amyotte</td>\n",
       "      <td>5.0</td>\n",
       "      <td>Highshool Classic</td>\n",
       "      <td>I first read this book in grade 10 English cla...</td>\n",
       "      <td>Voted America's Best-Loved Novel in PBS's The ...</td>\n",
       "      <td>Harper Lee</td>\n",
       "      <td>http://books.google.com/books/content?id=PGR2A...</td>\n",
       "      <td>Fiction</td>\n",
       "      <td>2164.0</td>\n",
       "    </tr>\n",
       "  </tbody>\n",
       "</table>\n",
       "</div>"
      ],
      "text/plain": [
       "                               Title     profileName  review/score  \\\n",
       "0  Bridget Jones: The Edge of Reason      C. Prasojo           4.0   \n",
       "1              To Kill A Mockingbird  Elissa Amyotte           5.0   \n",
       "\n",
       "      review/summary                                        review/text  \\\n",
       "0        Fun to read  This book is a nice diary about Bridget Jones ...   \n",
       "1  Highshool Classic  I first read this book in grade 10 English cla...   \n",
       "\n",
       "                                         description         authors  \\\n",
       "0  With another devastatingly hilarious, ridiculo...  Helen Fielding   \n",
       "1  Voted America's Best-Loved Novel in PBS's The ...      Harper Lee   \n",
       "\n",
       "                                               image categories  ratingsCount  \n",
       "0  http://books.google.com/books/content?id=dYONd...    Fiction        2088.0  \n",
       "1  http://books.google.com/books/content?id=PGR2A...    Fiction        2164.0  "
      ]
     },
     "execution_count": 4,
     "metadata": {},
     "output_type": "execute_result"
    }
   ],
   "source": [
    "review_df = pd.read_csv('./data/review_sample.csv')\n",
    "review_df.head(2)"
   ]
  },
  {
   "cell_type": "code",
   "execution_count": null,
   "id": "df302f3b-298b-4a4f-983e-0945a0bf0802",
   "metadata": {},
   "outputs": [],
   "source": [
    "# top 10 authors\n",
    "# pie chart of the most reviewed categories"
   ]
  },
  {
   "cell_type": "code",
   "execution_count": null,
   "id": "170ff8ef-e04f-4b10-baf6-e0008833cb1c",
   "metadata": {},
   "outputs": [],
   "source": []
  },
  {
   "cell_type": "code",
   "execution_count": null,
   "id": "238010de-4dcc-4764-b258-6be741d30ab7",
   "metadata": {},
   "outputs": [],
   "source": []
  },
  {
   "cell_type": "code",
   "execution_count": null,
   "id": "6b41a0cb-b329-4a98-ac85-8ad9203507ce",
   "metadata": {},
   "outputs": [],
   "source": []
  },
  {
   "cell_type": "code",
   "execution_count": null,
   "id": "e00890cd-1171-4028-a5f1-84d76cea4d4f",
   "metadata": {},
   "outputs": [],
   "source": []
  },
  {
   "cell_type": "code",
   "execution_count": null,
   "id": "23173df9-3f9e-4a3b-a069-73c56e75d732",
   "metadata": {},
   "outputs": [],
   "source": []
  },
  {
   "cell_type": "code",
   "execution_count": null,
   "id": "c1cc3795-cef1-4c96-bc6d-3149bc80f3b5",
   "metadata": {},
   "outputs": [],
   "source": []
  },
  {
   "cell_type": "code",
   "execution_count": null,
   "id": "a12ea1bc-5c70-46f4-b6fa-8f30c729b4c3",
   "metadata": {},
   "outputs": [],
   "source": []
  },
  {
   "cell_type": "code",
   "execution_count": null,
   "id": "699d881b-e226-445c-be6c-60766276fcd8",
   "metadata": {},
   "outputs": [],
   "source": []
  },
  {
   "cell_type": "code",
   "execution_count": null,
   "id": "46f7f772-8d62-4642-919c-fb165fca6cfe",
   "metadata": {},
   "outputs": [],
   "source": []
  },
  {
   "cell_type": "code",
   "execution_count": null,
   "id": "5c72abbb-64d7-4a63-98e3-f6278598fa6f",
   "metadata": {},
   "outputs": [],
   "source": []
  },
  {
   "cell_type": "code",
   "execution_count": null,
   "id": "67c14cf3-15a6-4829-99a5-9fe102759867",
   "metadata": {},
   "outputs": [],
   "source": []
  },
  {
   "cell_type": "code",
   "execution_count": null,
   "id": "44f9970b-ce32-4833-a09e-7490438220a2",
   "metadata": {},
   "outputs": [],
   "source": []
  },
  {
   "cell_type": "code",
   "execution_count": null,
   "id": "73bcc6ee-ffd0-4db0-8591-9c53b2a03320",
   "metadata": {},
   "outputs": [],
   "source": []
  },
  {
   "cell_type": "code",
   "execution_count": null,
   "id": "566b8458-2412-42f7-8976-0e50df687a74",
   "metadata": {},
   "outputs": [],
   "source": []
  },
  {
   "cell_type": "code",
   "execution_count": null,
   "id": "c1a136a9-058d-4f7e-ba85-732f2052f436",
   "metadata": {},
   "outputs": [],
   "source": []
  },
  {
   "cell_type": "code",
   "execution_count": null,
   "id": "c447fe84-77a8-4e71-847f-3fa8602b1682",
   "metadata": {},
   "outputs": [],
   "source": []
  },
  {
   "cell_type": "code",
   "execution_count": null,
   "id": "9aff805d-40fc-40cf-9c2a-cb50dbf23663",
   "metadata": {},
   "outputs": [],
   "source": []
  },
  {
   "cell_type": "code",
   "execution_count": null,
   "id": "a2633d75-19df-44d3-8118-6b7615ca4868",
   "metadata": {},
   "outputs": [],
   "source": []
  },
  {
   "cell_type": "code",
   "execution_count": null,
   "id": "5dd760c9-e810-4bf1-8c81-599b80522ca4",
   "metadata": {},
   "outputs": [],
   "source": []
  }
 ],
 "metadata": {
  "kernelspec": {
   "display_name": "Python 3 (ipykernel)",
   "language": "python",
   "name": "python3"
  },
  "language_info": {
   "codemirror_mode": {
    "name": "ipython",
    "version": 3
   },
   "file_extension": ".py",
   "mimetype": "text/x-python",
   "name": "python",
   "nbconvert_exporter": "python",
   "pygments_lexer": "ipython3",
   "version": "3.9.13"
  }
 },
 "nbformat": 4,
 "nbformat_minor": 5
}
