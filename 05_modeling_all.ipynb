{
 "cells": [
  {
   "cell_type": "code",
   "execution_count": 1,
   "id": "25f26990-6361-4ee4-9cb5-d2b4cab76704",
   "metadata": {},
   "outputs": [],
   "source": [
    "import pandas as pd\n",
    "import numpy as np\n",
    "import matplotlib.pyplot as plt\n",
    "import seaborn as sns\n",
    "\n",
    "from sklearn.feature_extraction import text\n",
    "from nltk.corpus import stopwords\n",
    "from nltk.stem import WordNetLemmatizer\n",
    "import re\n",
    "\n",
    "from sklearn.model_selection import train_test_split, cross_val_score, GridSearchCV\n",
    "from sklearn.preprocessing import StandardScaler\n",
    "\n",
    "from sklearn.pipeline import Pipeline\n",
    "from sklearn.feature_extraction.text import CountVectorizer, TfidfVectorizer\n",
    "from sklearn.linear_model import LogisticRegression\n",
    "from sklearn.ensemble import RandomForestClassifier\n",
    "from sklearn.naive_bayes import MultinomialNB\n",
    "from sklearn.svm import SVC\n",
    "\n",
    "from sklearn.metrics import recall_score, precision_score, f1_score, accuracy_score"
   ]
  },
  {
   "cell_type": "code",
   "execution_count": 2,
   "id": "f32809e1-dbf7-40b8-a0b5-4ec1ce33686b",
   "metadata": {},
   "outputs": [],
   "source": [
    "import pickle"
   ]
  },
  {
   "cell_type": "code",
   "execution_count": 3,
   "id": "2afea11b-ba07-45c3-8d1a-4167ff6624e5",
   "metadata": {},
   "outputs": [],
   "source": [
    "np.random.seed(42)"
   ]
  },
  {
   "cell_type": "markdown",
   "id": "a787051c-9015-44e3-8e7c-94eb2199a9e3",
   "metadata": {},
   "source": [
    "### Reading All Datasets"
   ]
  },
  {
   "cell_type": "code",
   "execution_count": 4,
   "id": "488274d7-91dd-4798-a4e5-ebefe7b8d2e5",
   "metadata": {},
   "outputs": [],
   "source": [
    "fiction_df = pd.read_csv('./data/fiction_sample.csv')"
   ]
  },
  {
   "cell_type": "code",
   "execution_count": 5,
   "id": "c46b283b-ccbc-4b4f-a987-acc6bf4e9a87",
   "metadata": {},
   "outputs": [],
   "source": [
    "jvf_df = pd.read_csv('./data/jvf_sample.csv')"
   ]
  },
  {
   "cell_type": "code",
   "execution_count": 6,
   "id": "904c9077-09cc-42e8-b93e-ec00162ca7c2",
   "metadata": {},
   "outputs": [],
   "source": [
    "bio_df = pd.read_csv('./data/bio_sample.csv')"
   ]
  },
  {
   "cell_type": "code",
   "execution_count": 7,
   "id": "4ba7051c-f73d-4339-9524-9757d94cc81c",
   "metadata": {},
   "outputs": [],
   "source": [
    "overall_df = pd.read_csv('./data/overall_sample.csv')"
   ]
  },
  {
   "cell_type": "code",
   "execution_count": 8,
   "id": "bd3a03a1-7080-4e14-9754-af42fe1ab1db",
   "metadata": {},
   "outputs": [],
   "source": [
    "review_df = pd.read_csv('./data/review_sample.csv')"
   ]
  },
  {
   "cell_type": "code",
   "execution_count": null,
   "id": "f7777019-e03b-4feb-8d1a-ae8b667ef263",
   "metadata": {},
   "outputs": [],
   "source": []
  },
  {
   "cell_type": "code",
   "execution_count": 9,
   "id": "0b06224c-5554-488e-9033-9f5a6b5d92b2",
   "metadata": {},
   "outputs": [],
   "source": [
    "def best_params(pipeline, params, X_train, y_train):\n",
    "    gs = GridSearchCV(pipeline,\n",
    "                      param_grid = params,\n",
    "                      n_jobs=-1)\n",
    "\n",
    "    gs.fit(X_train, y_train)\n",
    "    return f'Best Score: {gs.best_score_}, Params: {gs.best_params_}'"
   ]
  },
  {
   "cell_type": "code",
   "execution_count": 10,
   "id": "cc8dc409-df5a-4627-8cd9-0b6c363b33ce",
   "metadata": {},
   "outputs": [],
   "source": [
    "def return_gs(pipeline, params, X_train, y_train):\n",
    "    gs = GridSearchCV(pipeline,\n",
    "                      param_grid = params,\n",
    "                      n_jobs=-1)\n",
    "    return gs"
   ]
  },
  {
   "cell_type": "code",
   "execution_count": 11,
   "id": "2c63e096-8cb4-4761-a080-601cbfc1c3b5",
   "metadata": {},
   "outputs": [],
   "source": [
    "def scores(gs, X_train, y_train, X_test, y_test):\n",
    "    gs.fit(X_train, y_train)\n",
    "    return f'Train Score: {gs.score(X_train, y_train)}, Test Score: {gs.score(X_test, y_test)}'"
   ]
  },
  {
   "cell_type": "code",
   "execution_count": 12,
   "id": "363bbda7-e6f6-4d01-9b74-53434d9f819d",
   "metadata": {},
   "outputs": [],
   "source": [
    "def predictions(pipeline, X_train, X_test, y_train):\n",
    "    pipeline.fit(X_train, y_train)\n",
    "    prediction = pipeline.predict(X_test)\n",
    "    \n",
    "    return prediction"
   ]
  },
  {
   "cell_type": "code",
   "execution_count": 13,
   "id": "0cb05a8b-0f98-4c11-a80a-fcc5483b2de3",
   "metadata": {},
   "outputs": [],
   "source": [
    "def classification_scores(model, y_test, y_pred):\n",
    "    dataframe = pd.DataFrame(columns = ['Recall', 'Precision', 'F1', 'Accuracy'])\n",
    "    \n",
    "    recall = recall_score(y_test, y_pred, average = 'weighted')\n",
    "    precision = precision_score(y_test, y_pred, average = 'weighted')\n",
    "    f1 = f1_score(y_test, y_pred, average = 'weighted')\n",
    "    accuracy = accuracy_score(y_test, y_pred)\n",
    "    \n",
    "    dataframe.loc[model] = [recall, precision, f1, accuracy]\n",
    "    \n",
    "    return dataframe"
   ]
  },
  {
   "cell_type": "code",
   "execution_count": 14,
   "id": "106a4378-0a80-4343-a093-787df2345b3b",
   "metadata": {},
   "outputs": [],
   "source": [
    "def my_lemmatizer(text):\n",
    "    wnet = WordNetLemmatizer()\n",
    "    # exclude words with apostrophes and numbers\n",
    "    return [wnet.lemmatize(w) for w in text.split() if \"'\" not in w and not w.isdigit()]"
   ]
  },
  {
   "cell_type": "code",
   "execution_count": 15,
   "id": "f79e76af-1cb2-47b8-a2a3-699adbee9751",
   "metadata": {},
   "outputs": [],
   "source": [
    "wnet = WordNetLemmatizer()\n",
    "lem_stopwords = [wnet.lemmatize(w) for w in stopwords.words('english')]\n",
    "\n",
    "contractions = ['ve', 't', \"'s'\", 'd', 'll', 'm', 're']\n",
    "lem_contractions = [wnet.lemmatize(contraction) for contraction in contractions]\n",
    "\n",
    "numbers = ['0', '1', '2', '3', '4', '5', '6', '7', '8', '9']\n",
    "lem_numbers = [wnet.lemmatize(num) for num in numbers]\n",
    "\n",
    "lem_stopwords = lem_stopwords + lem_contractions + lem_numbers"
   ]
  },
  {
   "cell_type": "markdown",
   "id": "18ae731f-afa9-42c9-9a1c-8a1e2ab67911",
   "metadata": {},
   "source": [
    "### By Genre (classified by Titles)"
   ]
  },
  {
   "cell_type": "code",
   "execution_count": 16,
   "id": "d16701b7-42b3-4107-84aa-d29c8e546943",
   "metadata": {},
   "outputs": [],
   "source": [
    "X_fiction = fiction_df['description']\n",
    "y_fiction = fiction_df['Title']"
   ]
  },
  {
   "cell_type": "code",
   "execution_count": 17,
   "id": "5cf1f9c1-4c6f-483b-97f7-85cf30cd039f",
   "metadata": {},
   "outputs": [],
   "source": [
    "X_train, X_test, y_train, y_test = train_test_split(X_fiction, y_fiction, random_state=42)"
   ]
  },
  {
   "cell_type": "code",
   "execution_count": 18,
   "id": "91183f2c-d2aa-4b99-8064-1f2bd2ed9ea6",
   "metadata": {},
   "outputs": [],
   "source": [
    "fiction_pipe = Pipeline([\n",
    "    ('tf', TfidfVectorizer(stop_words = lem_stopwords, \n",
    "                           tokenizer = my_lemmatizer,\n",
    "                           token_pattern = None,\n",
    "                           max_features = 500)),\n",
    "    ('mnb', MultinomialNB(alpha = 0.5))\n",
    "])"
   ]
  },
  {
   "cell_type": "code",
   "execution_count": 18,
   "id": "28a459af-8a85-42c3-a07c-634cb4842596",
   "metadata": {},
   "outputs": [],
   "source": [
    "fiction_pipe = Pipeline([\n",
    "    ('tf', TfidfVectorizer(stop_words = lem_stopwords, \n",
    "                           tokenizer = my_lemmatizer,\n",
    "                           token_pattern = None,\n",
    "                           max_features = 500)),\n",
    "    ('rfc', RandomForestClassifier(max_features = 500))\n",
    "])"
   ]
  },
  {
   "cell_type": "code",
   "execution_count": 19,
   "id": "64c614c2-2e4d-4f31-8c73-c41670c2eeb9",
   "metadata": {},
   "outputs": [],
   "source": [
    "fiction_params = {\n",
    "    'tf__min_df': [0.05, 0.1],\n",
    "    'tf__max_df': [0.5],\n",
    "    'tf__ngram_range': [(1,1)],\n",
    "    'mnb__alpha': [0.05, 0.1],\n",
    "    'mnb__fit_prior': [False]\n",
    "}"
   ]
  },
  {
   "cell_type": "code",
   "execution_count": null,
   "id": "83fb8510-dddc-4e71-899e-6de1a9bad40f",
   "metadata": {},
   "outputs": [],
   "source": [
    "best_params(fiction_pipe, fiction_params, X_train, y_train)"
   ]
  },
  {
   "cell_type": "code",
   "execution_count": 20,
   "id": "4d8dd639-f1fa-4dc4-8619-8d68907277a0",
   "metadata": {},
   "outputs": [],
   "source": [
    "fiction_gs = return_gs(fiction_pipe, fiction_params, X_train, y_train)"
   ]
  },
  {
   "cell_type": "code",
   "execution_count": 21,
   "id": "ace7d556-64b7-4e58-971e-80345eb395fa",
   "metadata": {
    "scrolled": true,
    "tags": []
   },
   "outputs": [
    {
     "name": "stderr",
     "output_type": "stream",
     "text": [
      "/Users/lisaliang/opt/anaconda3/lib/python3.9/site-packages/sklearn/model_selection/_split.py:700: UserWarning: The least populated class in y has only 1 members, which is less than n_splits=5.\n",
      "  warnings.warn(\n"
     ]
    },
    {
     "data": {
      "text/plain": [
       "'Train Score: 0.8729866666666667, Test Score: 0.81104'"
      ]
     },
     "execution_count": 21,
     "metadata": {},
     "output_type": "execute_result"
    }
   ],
   "source": [
    "scores(fiction_gs, X_train, y_train, X_test, y_test)"
   ]
  },
  {
   "cell_type": "code",
   "execution_count": 22,
   "id": "4f73c15c-a80b-466a-b5e3-a5f6c03db8d1",
   "metadata": {},
   "outputs": [],
   "source": [
    "fiction_pred = predictions(fiction_pipe, X_train, X_test, y_train)"
   ]
  },
  {
   "cell_type": "code",
   "execution_count": 23,
   "id": "6c249eff-9f29-4a82-93fa-cd120eccd5e7",
   "metadata": {},
   "outputs": [
    {
     "name": "stderr",
     "output_type": "stream",
     "text": [
      "/Users/lisaliang/opt/anaconda3/lib/python3.9/site-packages/sklearn/metrics/_classification.py:1344: UndefinedMetricWarning: Recall is ill-defined and being set to 0.0 in labels with no true samples. Use `zero_division` parameter to control this behavior.\n",
      "  _warn_prf(average, modifier, msg_start, len(result))\n",
      "/Users/lisaliang/opt/anaconda3/lib/python3.9/site-packages/sklearn/metrics/_classification.py:1344: UndefinedMetricWarning: Precision is ill-defined and being set to 0.0 in labels with no predicted samples. Use `zero_division` parameter to control this behavior.\n",
      "  _warn_prf(average, modifier, msg_start, len(result))\n"
     ]
    },
    {
     "data": {
      "text/html": [
       "<div>\n",
       "<style scoped>\n",
       "    .dataframe tbody tr th:only-of-type {\n",
       "        vertical-align: middle;\n",
       "    }\n",
       "\n",
       "    .dataframe tbody tr th {\n",
       "        vertical-align: top;\n",
       "    }\n",
       "\n",
       "    .dataframe thead th {\n",
       "        text-align: right;\n",
       "    }\n",
       "</style>\n",
       "<table border=\"1\" class=\"dataframe\">\n",
       "  <thead>\n",
       "    <tr style=\"text-align: right;\">\n",
       "      <th></th>\n",
       "      <th>Recall</th>\n",
       "      <th>Precision</th>\n",
       "      <th>F1</th>\n",
       "      <th>Accuracy</th>\n",
       "    </tr>\n",
       "  </thead>\n",
       "  <tbody>\n",
       "    <tr>\n",
       "      <th>Fiction</th>\n",
       "      <td>0.67144</td>\n",
       "      <td>0.515462</td>\n",
       "      <td>0.57021</td>\n",
       "      <td>0.67144</td>\n",
       "    </tr>\n",
       "  </tbody>\n",
       "</table>\n",
       "</div>"
      ],
      "text/plain": [
       "          Recall  Precision       F1  Accuracy\n",
       "Fiction  0.67144   0.515462  0.57021   0.67144"
      ]
     },
     "execution_count": 23,
     "metadata": {},
     "output_type": "execute_result"
    }
   ],
   "source": [
    "classification_scores('Fiction', y_test, fiction_pred)"
   ]
  },
  {
   "cell_type": "code",
   "execution_count": 38,
   "id": "f8ed5392-1a66-49b3-b7ce-4478e599127f",
   "metadata": {},
   "outputs": [],
   "source": [
    "with open('fiction_pipe.pkl', 'wb') as f:\n",
    "    pickle.dump(fiction_pipe, f)"
   ]
  },
  {
   "cell_type": "code",
   "execution_count": null,
   "id": "3e1a43ef-3f78-47ad-8f4b-01c7f76a3e88",
   "metadata": {},
   "outputs": [],
   "source": []
  },
  {
   "cell_type": "code",
   "execution_count": null,
   "id": "79e659d1-f48a-48f7-a653-8b89f861cbf9",
   "metadata": {},
   "outputs": [],
   "source": []
  },
  {
   "cell_type": "code",
   "execution_count": 36,
   "id": "cf6e0967-a69e-4ea7-a923-dbba337a0c6f",
   "metadata": {},
   "outputs": [],
   "source": [
    "X_jvf = jvf_df['description']\n",
    "y_jvf = jvf_df['Title']"
   ]
  },
  {
   "cell_type": "code",
   "execution_count": 37,
   "id": "b6058bf8-6344-4bbf-9f3d-95571b1ae016",
   "metadata": {},
   "outputs": [],
   "source": [
    "X_train, X_test, y_train, y_test = train_test_split(X_jvf, y_jvf, random_state=42)"
   ]
  },
  {
   "cell_type": "code",
   "execution_count": 38,
   "id": "eab1433d-8d83-40e9-9cc3-cebd84252a66",
   "metadata": {},
   "outputs": [],
   "source": [
    "jvf_pipe = Pipeline([\n",
    "    ('tf', TfidfVectorizer(stop_words = lem_stopwords, \n",
    "                           tokenizer = my_lemmatizer,\n",
    "                           token_pattern = None,\n",
    "                           max_features = 1_000)),\n",
    "    ('rfc', RandomForestClassifier(max_features = 1_000))\n",
    "])"
   ]
  },
  {
   "cell_type": "code",
   "execution_count": 39,
   "id": "2695f23e-648f-4afc-bf78-e94cf281ab5a",
   "metadata": {},
   "outputs": [],
   "source": [
    "jvf_params = {\n",
    "    'tf__min_df': [0.05, 0.1],\n",
    "    'tf__max_df': [0.5],\n",
    "    'tf__ngram_range': [(1,1)]\n",
    "}"
   ]
  },
  {
   "cell_type": "code",
   "execution_count": null,
   "id": "55c8f266-69c9-440a-807e-dce3f0bd7ac1",
   "metadata": {},
   "outputs": [],
   "source": [
    "best_params(jvf_pipe, jvf_params, X_train, y_train)"
   ]
  },
  {
   "cell_type": "code",
   "execution_count": 40,
   "id": "a4937a58-28c7-49f5-a6a3-f85bcd57fe71",
   "metadata": {},
   "outputs": [],
   "source": [
    "jvf_gs = return_gs(jvf_pipe, jvf_params, X_train, y_train)"
   ]
  },
  {
   "cell_type": "code",
   "execution_count": null,
   "id": "98fffc37-53cf-4de6-b42a-8b1b8901469d",
   "metadata": {
    "scrolled": true,
    "tags": []
   },
   "outputs": [
    {
     "name": "stderr",
     "output_type": "stream",
     "text": [
      "/Users/lisaliang/opt/anaconda3/lib/python3.9/site-packages/sklearn/model_selection/_split.py:700: UserWarning: The least populated class in y has only 1 members, which is less than n_splits=5.\n",
      "  warnings.warn(\n"
     ]
    }
   ],
   "source": [
    "scores(jvf_gs, X_train, y_train, X_test, y_test)"
   ]
  },
  {
   "cell_type": "code",
   "execution_count": null,
   "id": "89f5d382-47c5-4e25-9024-feb4c33c9478",
   "metadata": {},
   "outputs": [],
   "source": [
    "jvf_pred = predictions(jvf_pipe, X_train, X_test, y_train)"
   ]
  },
  {
   "cell_type": "code",
   "execution_count": null,
   "id": "8b3bb783-9aa3-4585-ac60-42650496c792",
   "metadata": {},
   "outputs": [],
   "source": [
    "classification_scores('Juvenile Fiction', y_test, jvf_pred)"
   ]
  },
  {
   "cell_type": "code",
   "execution_count": 47,
   "id": "ec048f9c-e0ca-4cd4-94f7-5a96abe915b9",
   "metadata": {},
   "outputs": [],
   "source": [
    "with open('jvf_pipe.pkl', 'wb') as f:\n",
    "    pickle.dump(jvf_pipe, f)"
   ]
  },
  {
   "cell_type": "code",
   "execution_count": null,
   "id": "75c9ca18-71f3-4dad-9dfd-7c310ad84ca9",
   "metadata": {},
   "outputs": [],
   "source": []
  },
  {
   "cell_type": "code",
   "execution_count": 26,
   "id": "e44aa959-b49c-4d4c-8659-3c5f57b6a5c0",
   "metadata": {},
   "outputs": [],
   "source": [
    "X_bio = bio_df['description']\n",
    "y_bio = bio_df['Title']"
   ]
  },
  {
   "cell_type": "code",
   "execution_count": 27,
   "id": "03b98866-0fc8-4c63-b24b-348710b0f3d8",
   "metadata": {},
   "outputs": [],
   "source": [
    "X_train, X_test, y_train, y_test = train_test_split(X_bio, y_bio, random_state=42)"
   ]
  },
  {
   "cell_type": "code",
   "execution_count": 28,
   "id": "41303508-5d78-43a6-bd9b-3ec06fa935eb",
   "metadata": {},
   "outputs": [],
   "source": [
    "from sklearn.ensemble import RandomForestClassifier"
   ]
  },
  {
   "cell_type": "code",
   "execution_count": 29,
   "id": "160acb01-3c69-4374-a62e-ad165769b6ea",
   "metadata": {},
   "outputs": [],
   "source": [
    "bio_pipe = Pipeline([\n",
    "    ('tf', TfidfVectorizer(stop_words = lem_stopwords, \n",
    "                           tokenizer = my_lemmatizer,\n",
    "                           token_pattern = None,\n",
    "                           max_features = 1_000)),\n",
    "    ('rfc', RandomForestClassifier(max_features = 1_000))\n",
    "])"
   ]
  },
  {
   "cell_type": "code",
   "execution_count": 30,
   "id": "43f8e59b-4ae7-4cf4-bd50-06f83213211f",
   "metadata": {},
   "outputs": [],
   "source": [
    "bio_params = {\n",
    "    'tf__min_df': [0.05, 0.1],\n",
    "    'tf__max_df': [0.5],\n",
    "    'tf__ngram_range': [(1,1)],\n",
    "}"
   ]
  },
  {
   "cell_type": "code",
   "execution_count": null,
   "id": "10537dc2-a21d-4449-ae86-3c278071da7a",
   "metadata": {},
   "outputs": [],
   "source": [
    "best_params(bio_pipe, bio_params, X_train, y_train)"
   ]
  },
  {
   "cell_type": "code",
   "execution_count": 31,
   "id": "be27c2cd-c391-4a5a-94fd-7e66035c857b",
   "metadata": {},
   "outputs": [],
   "source": [
    "bio_gs = return_gs(bio_pipe, bio_params, X_train, y_train)"
   ]
  },
  {
   "cell_type": "code",
   "execution_count": 32,
   "id": "f35bb7d7-9a11-4922-b591-71393e1cded8",
   "metadata": {},
   "outputs": [
    {
     "name": "stderr",
     "output_type": "stream",
     "text": [
      "/Users/lisaliang/opt/anaconda3/lib/python3.9/site-packages/sklearn/model_selection/_split.py:700: UserWarning: The least populated class in y has only 1 members, which is less than n_splits=5.\n",
      "  warnings.warn(\n"
     ]
    },
    {
     "data": {
      "text/plain": [
       "'Train Score: 0.90608, Test Score: 0.89288'"
      ]
     },
     "execution_count": 32,
     "metadata": {},
     "output_type": "execute_result"
    }
   ],
   "source": [
    "scores(bio_gs, X_train, y_train, X_test, y_test)"
   ]
  },
  {
   "cell_type": "code",
   "execution_count": 33,
   "id": "0630ca8d-1eea-4be8-88e9-8acd393ab07d",
   "metadata": {},
   "outputs": [],
   "source": [
    "bio_pred = predictions(bio_pipe, X_train, X_test, y_train)"
   ]
  },
  {
   "cell_type": "code",
   "execution_count": 34,
   "id": "72c95d40-9585-4b54-9f46-d9e79646a81b",
   "metadata": {},
   "outputs": [
    {
     "name": "stderr",
     "output_type": "stream",
     "text": [
      "/Users/lisaliang/opt/anaconda3/lib/python3.9/site-packages/sklearn/metrics/_classification.py:1344: UndefinedMetricWarning: Recall is ill-defined and being set to 0.0 in labels with no true samples. Use `zero_division` parameter to control this behavior.\n",
      "  _warn_prf(average, modifier, msg_start, len(result))\n",
      "/Users/lisaliang/opt/anaconda3/lib/python3.9/site-packages/sklearn/metrics/_classification.py:1344: UndefinedMetricWarning: Precision is ill-defined and being set to 0.0 in labels with no predicted samples. Use `zero_division` parameter to control this behavior.\n",
      "  _warn_prf(average, modifier, msg_start, len(result))\n"
     ]
    },
    {
     "data": {
      "text/html": [
       "<div>\n",
       "<style scoped>\n",
       "    .dataframe tbody tr th:only-of-type {\n",
       "        vertical-align: middle;\n",
       "    }\n",
       "\n",
       "    .dataframe tbody tr th {\n",
       "        vertical-align: top;\n",
       "    }\n",
       "\n",
       "    .dataframe thead th {\n",
       "        text-align: right;\n",
       "    }\n",
       "</style>\n",
       "<table border=\"1\" class=\"dataframe\">\n",
       "  <thead>\n",
       "    <tr style=\"text-align: right;\">\n",
       "      <th></th>\n",
       "      <th>Recall</th>\n",
       "      <th>Precision</th>\n",
       "      <th>F1</th>\n",
       "      <th>Accuracy</th>\n",
       "    </tr>\n",
       "  </thead>\n",
       "  <tbody>\n",
       "    <tr>\n",
       "      <th>Biography &amp; Autobiography</th>\n",
       "      <td>0.91488</td>\n",
       "      <td>0.875228</td>\n",
       "      <td>0.888892</td>\n",
       "      <td>0.91488</td>\n",
       "    </tr>\n",
       "  </tbody>\n",
       "</table>\n",
       "</div>"
      ],
      "text/plain": [
       "                            Recall  Precision        F1  Accuracy\n",
       "Biography & Autobiography  0.91488   0.875228  0.888892   0.91488"
      ]
     },
     "execution_count": 34,
     "metadata": {},
     "output_type": "execute_result"
    }
   ],
   "source": [
    "classification_scores('Biography & Autobiography', y_test, bio_pred)"
   ]
  },
  {
   "cell_type": "code",
   "execution_count": 35,
   "id": "08d0d109-b3c5-437c-a3a0-6e4350694032",
   "metadata": {},
   "outputs": [],
   "source": [
    "with open('bio_pipe.pkl', 'wb') as f:\n",
    "    pickle.dump(bio_pipe, f)"
   ]
  },
  {
   "cell_type": "code",
   "execution_count": null,
   "id": "302dff74-9f08-43ad-a668-8ed63070a63e",
   "metadata": {},
   "outputs": [],
   "source": []
  },
  {
   "cell_type": "code",
   "execution_count": null,
   "id": "9d6a6fff-6c2f-4ad6-8fda-647a6ed6fd78",
   "metadata": {},
   "outputs": [],
   "source": []
  },
  {
   "cell_type": "code",
   "execution_count": null,
   "id": "2b9b6e95-6cf4-42db-b0a9-fe9a7e55cd50",
   "metadata": {},
   "outputs": [],
   "source": []
  },
  {
   "cell_type": "code",
   "execution_count": 53,
   "id": "1b031b5f-bba1-47d0-9191-88dcd9568b24",
   "metadata": {},
   "outputs": [],
   "source": [
    "X_overall = overall_df['description']\n",
    "y_authors = overall_df['authors']"
   ]
  },
  {
   "cell_type": "code",
   "execution_count": 54,
   "id": "4bae1a47-74df-4c12-b973-d13baaade6fc",
   "metadata": {},
   "outputs": [],
   "source": [
    "X_train, X_test, y_train, y_test = train_test_split(X_overall, y_authors, random_state=42)"
   ]
  },
  {
   "cell_type": "code",
   "execution_count": 55,
   "id": "b700c7e2-a8d6-4568-a87f-f3566df46bf3",
   "metadata": {},
   "outputs": [],
   "source": [
    "overall_pipe = Pipeline([\n",
    "    ('tf', TfidfVectorizer(stop_words = lem_stopwords, \n",
    "                           tokenizer = my_lemmatizer,\n",
    "                           token_pattern = None,\n",
    "                           max_features = 1_000)),\n",
    "    ('rfc', RandomForestClassifier(max_features = 1_000))\n",
    "])"
   ]
  },
  {
   "cell_type": "code",
   "execution_count": 56,
   "id": "e4e251e3-e4ed-407e-a26a-22362651f4b7",
   "metadata": {},
   "outputs": [],
   "source": [
    "overall_params = {\n",
    "    'tf__min_df': [0.05, 0.1],\n",
    "    'tf__max_df': [0.5],\n",
    "    'tf__ngram_range': [(1,1)],\n",
    "}"
   ]
  },
  {
   "cell_type": "code",
   "execution_count": null,
   "id": "6c898e99-4db5-4751-9a36-a35815b27e47",
   "metadata": {},
   "outputs": [],
   "source": [
    "best_params(overall_pipe, overall_params, X_train, y_train)"
   ]
  },
  {
   "cell_type": "code",
   "execution_count": 57,
   "id": "cb7f49af-091e-4266-8a8b-15d65396d253",
   "metadata": {},
   "outputs": [],
   "source": [
    "overall_gs = return_gs(overall_pipe, overall_params, X_train, y_train)"
   ]
  },
  {
   "cell_type": "code",
   "execution_count": null,
   "id": "e42e5963-54e1-41e0-a60c-fc2b46bb5774",
   "metadata": {},
   "outputs": [
    {
     "name": "stderr",
     "output_type": "stream",
     "text": [
      "/Users/lisaliang/opt/anaconda3/lib/python3.9/site-packages/sklearn/model_selection/_split.py:700: UserWarning: The least populated class in y has only 1 members, which is less than n_splits=5.\n",
      "  warnings.warn(\n"
     ]
    }
   ],
   "source": [
    "scores(overall_gs, X_train, y_train, X_test, y_test)"
   ]
  },
  {
   "cell_type": "code",
   "execution_count": null,
   "id": "295e2a1a-7a89-4d70-b6a3-46dec8fa6585",
   "metadata": {},
   "outputs": [],
   "source": [
    "overall_pred = predictions(overall_pipe, X_train, X_test, y_train)"
   ]
  },
  {
   "cell_type": "code",
   "execution_count": null,
   "id": "a941eaed-bd58-4ab2-b6d4-561eed628db4",
   "metadata": {},
   "outputs": [],
   "source": [
    "classification_scores('Authors, by Description', y_test, overall_pred)"
   ]
  },
  {
   "cell_type": "code",
   "execution_count": null,
   "id": "cf67e05c-42bc-450d-99cd-75b75d3863cd",
   "metadata": {},
   "outputs": [],
   "source": [
    "with open('overall_pipe.pkl', 'wb') as f:\n",
    "    pickle.dump(overall_pipe, f)"
   ]
  },
  {
   "cell_type": "code",
   "execution_count": null,
   "id": "3b2222bd-4f58-47c6-9951-9a785ea236d2",
   "metadata": {},
   "outputs": [],
   "source": []
  },
  {
   "cell_type": "code",
   "execution_count": null,
   "id": "e596505b-9197-4869-a097-04f478fdeae7",
   "metadata": {},
   "outputs": [],
   "source": [
    "X_reviews = rewview_df['reviews']\n",
    "y_authors = review_df['authors']"
   ]
  },
  {
   "cell_type": "code",
   "execution_count": null,
   "id": "a2eb465b-57c1-48a2-9b8e-80c032cf5039",
   "metadata": {},
   "outputs": [],
   "source": [
    "X_train, X_test, y_train, y_test = train_test_split(X_reviews, y_authors, random_state=42)"
   ]
  },
  {
   "cell_type": "code",
   "execution_count": null,
   "id": "35ce5aa5-825f-49b4-898b-5b49a16b6bbf",
   "metadata": {},
   "outputs": [],
   "source": [
    "review_pipe = Pipeline([\n",
    "    ('tf', TfidfVectorizer(stop_words = lem_stopwords, \n",
    "                           tokenizer = my_lemmatizer,\n",
    "                           token_pattern = None,\n",
    "                           max_features = 1_000)),\n",
    "    ('rfc', RandomForestClassifier(max_features = 1_000))\n",
    "])"
   ]
  },
  {
   "cell_type": "code",
   "execution_count": null,
   "id": "a7113e9d-52bb-4a57-b1aa-5a7f3bb72b02",
   "metadata": {},
   "outputs": [],
   "source": [
    "review_params = {\n",
    "    'tf__min_df': [0.05, 0.1],\n",
    "    'tf__max_df': [0.5],\n",
    "    'tf__ngram_range': [(1,1)],\n",
    "}"
   ]
  },
  {
   "cell_type": "code",
   "execution_count": null,
   "id": "6abfb490-631d-4409-ba42-6921eebfcad2",
   "metadata": {},
   "outputs": [],
   "source": [
    "review_gs = review_gs(review_pipe, review_params, X_train, y_train)"
   ]
  },
  {
   "cell_type": "code",
   "execution_count": null,
   "id": "5ddcf757-4033-4a8a-a3a0-1f2dddb49690",
   "metadata": {},
   "outputs": [],
   "source": [
    "scores(review_gs, X_train, y_train, X_test, y_test)"
   ]
  },
  {
   "cell_type": "code",
   "execution_count": null,
   "id": "9fe91e34-546e-4d97-bf64-1a750b3e9674",
   "metadata": {},
   "outputs": [],
   "source": [
    "review_pred = predictions(review_pipe, X_train, X_test, y_train)"
   ]
  },
  {
   "cell_type": "code",
   "execution_count": null,
   "id": "e22766d3-2eea-4410-a516-855d513400f7",
   "metadata": {},
   "outputs": [],
   "source": [
    "classification_scores('Authors, by Reviews', y_test, review_pred)"
   ]
  },
  {
   "cell_type": "code",
   "execution_count": null,
   "id": "15d77b2a-e285-4cb4-8f9c-2738aafe3952",
   "metadata": {},
   "outputs": [],
   "source": []
  },
  {
   "cell_type": "code",
   "execution_count": null,
   "id": "27c39ae6-0e20-4be1-8804-89c4d52bb1e9",
   "metadata": {},
   "outputs": [],
   "source": []
  },
  {
   "cell_type": "code",
   "execution_count": null,
   "id": "8e1f9080-9a94-4cde-af68-5734780ba606",
   "metadata": {},
   "outputs": [],
   "source": []
  },
  {
   "cell_type": "code",
   "execution_count": null,
   "id": "934da5ff-776f-44ef-a272-c7fa00258952",
   "metadata": {},
   "outputs": [],
   "source": []
  },
  {
   "cell_type": "code",
   "execution_count": null,
   "id": "1e3562a1-1f7b-4d77-9c67-31204a63304f",
   "metadata": {},
   "outputs": [],
   "source": []
  },
  {
   "cell_type": "code",
   "execution_count": null,
   "id": "01c545ee-9777-49b7-bd8a-816049274ff4",
   "metadata": {},
   "outputs": [],
   "source": []
  }
 ],
 "metadata": {
  "kernelspec": {
   "display_name": "Python 3 (ipykernel)",
   "language": "python",
   "name": "python3"
  },
  "language_info": {
   "codemirror_mode": {
    "name": "ipython",
    "version": 3
   },
   "file_extension": ".py",
   "mimetype": "text/x-python",
   "name": "python",
   "nbconvert_exporter": "python",
   "pygments_lexer": "ipython3",
   "version": "3.9.13"
  }
 },
 "nbformat": 4,
 "nbformat_minor": 5
}
